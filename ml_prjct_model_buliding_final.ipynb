{
 "cells": [
  {
   "cell_type": "code",
   "execution_count": 1,
   "id": "6c450ac1",
   "metadata": {},
   "outputs": [],
   "source": [
    "import pandas as pd\n",
    "import numpy as np\n",
    "import seaborn as sns\n",
    "import matplotlib.pyplot as plt"
   ]
  },
  {
   "cell_type": "code",
   "execution_count": 2,
   "id": "c39ff11c",
   "metadata": {},
   "outputs": [],
   "source": [
    "from sklearn.model_selection import train_test_split\n",
    "from sklearn.linear_model import LinearRegression,LogisticRegression\n",
    "from sklearn import metrics\n",
    "from sklearn.preprocessing import StandardScaler\n",
    "from sklearn.tree import DecisionTreeClassifier\n",
    "from sklearn.ensemble import RandomForestClassifier\n",
    "\n",
    "from sklearn.preprocessing import LabelEncoder\n",
    "from sklearn.decomposition import PCA"
   ]
  },
  {
   "cell_type": "code",
   "execution_count": 3,
   "id": "d4fb3fcb",
   "metadata": {},
   "outputs": [
    {
     "data": {
      "text/html": [
       "<div>\n",
       "<style scoped>\n",
       "    .dataframe tbody tr th:only-of-type {\n",
       "        vertical-align: middle;\n",
       "    }\n",
       "\n",
       "    .dataframe tbody tr th {\n",
       "        vertical-align: top;\n",
       "    }\n",
       "\n",
       "    .dataframe thead th {\n",
       "        text-align: right;\n",
       "    }\n",
       "</style>\n",
       "<table border=\"1\" class=\"dataframe\">\n",
       "  <thead>\n",
       "    <tr style=\"text-align: right;\">\n",
       "      <th></th>\n",
       "      <th>Rest_id</th>\n",
       "      <th>Rest_Name</th>\n",
       "      <th>Unnamed: 2</th>\n",
       "      <th>Price_for_two</th>\n",
       "      <th>Price for two</th>\n",
       "      <th>Price for one</th>\n",
       "      <th>Cuisines</th>\n",
       "      <th>Cuisine</th>\n",
       "      <th>Location</th>\n",
       "      <th>Delivery_review_no</th>\n",
       "      <th>URL</th>\n",
       "    </tr>\n",
       "  </thead>\n",
       "  <tbody>\n",
       "    <tr>\n",
       "      <th>0</th>\n",
       "      <td>1</td>\n",
       "      <td>Hotel Empire</td>\n",
       "      <td>4.3</td>\n",
       "      <td>₹450 for two</td>\n",
       "      <td>450</td>\n",
       "      <td>225.0</td>\n",
       "      <td>North Indian, Kebabs</td>\n",
       "      <td>North Indian</td>\n",
       "      <td>Brigade Road</td>\n",
       "      <td>10000.0</td>\n",
       "      <td>https://www.swiggy.com/restaurants/dilwale-res...</td>\n",
       "    </tr>\n",
       "    <tr>\n",
       "      <th>1</th>\n",
       "      <td>2</td>\n",
       "      <td>Protein Station</td>\n",
       "      <td>NEW</td>\n",
       "      <td>₹400 for two</td>\n",
       "      <td>400</td>\n",
       "      <td>200.0</td>\n",
       "      <td>Healthy Food, Salads</td>\n",
       "      <td>Healthy Food</td>\n",
       "      <td>Basavanagudi</td>\n",
       "      <td>NaN</td>\n",
       "      <td>https://www.swiggy.com/restaurants/dilwale-res...</td>\n",
       "    </tr>\n",
       "    <tr>\n",
       "      <th>2</th>\n",
       "      <td>3</td>\n",
       "      <td>Halli Donne Biryani</td>\n",
       "      <td>3.9</td>\n",
       "      <td>₹200 for two</td>\n",
       "      <td>200</td>\n",
       "      <td>100.0</td>\n",
       "      <td>South Indian</td>\n",
       "      <td>South Indian</td>\n",
       "      <td>Koramangala</td>\n",
       "      <td>1000.0</td>\n",
       "      <td>https://www.swiggy.com/restaurants/dilwale-res...</td>\n",
       "    </tr>\n",
       "    <tr>\n",
       "      <th>3</th>\n",
       "      <td>4</td>\n",
       "      <td>Edesia by Freshmenu</td>\n",
       "      <td>3.9</td>\n",
       "      <td>₹150 for two</td>\n",
       "      <td>150</td>\n",
       "      <td>75.0</td>\n",
       "      <td>Desserts, Bakery</td>\n",
       "      <td>Desserts</td>\n",
       "      <td>Richmond Town</td>\n",
       "      <td>150.0</td>\n",
       "      <td>https://www.swiggy.com/restaurants/dilwale-res...</td>\n",
       "    </tr>\n",
       "    <tr>\n",
       "      <th>4</th>\n",
       "      <td>5</td>\n",
       "      <td>Mangalore Sea Palate</td>\n",
       "      <td>4.1</td>\n",
       "      <td>₹300 for two</td>\n",
       "      <td>300</td>\n",
       "      <td>150.0</td>\n",
       "      <td>Seafood, South Indian</td>\n",
       "      <td>Seafood</td>\n",
       "      <td>Jaya Nagar</td>\n",
       "      <td>150.0</td>\n",
       "      <td>https://www.swiggy.com/restaurants/dilwale-res...</td>\n",
       "    </tr>\n",
       "  </tbody>\n",
       "</table>\n",
       "</div>"
      ],
      "text/plain": [
       "   Rest_id             Rest_Name Unnamed: 2 Price_for_two  Price for two  \\\n",
       "0        1          Hotel Empire        4.3  ₹450 for two            450   \n",
       "1        2       Protein Station        NEW  ₹400 for two            400   \n",
       "2        3   Halli Donne Biryani        3.9  ₹200 for two            200   \n",
       "3        4   Edesia by Freshmenu        3.9  ₹150 for two            150   \n",
       "4        5  Mangalore Sea Palate        4.1  ₹300 for two            300   \n",
       "\n",
       "   Price for one               Cuisines       Cuisine       Location  \\\n",
       "0          225.0   North Indian, Kebabs  North Indian   Brigade Road   \n",
       "1          200.0   Healthy Food, Salads  Healthy Food   Basavanagudi   \n",
       "2          100.0           South Indian  South Indian    Koramangala   \n",
       "3           75.0       Desserts, Bakery      Desserts  Richmond Town   \n",
       "4          150.0  Seafood, South Indian       Seafood     Jaya Nagar   \n",
       "\n",
       "   Delivery_review_no                                                URL  \n",
       "0             10000.0  https://www.swiggy.com/restaurants/dilwale-res...  \n",
       "1                 NaN  https://www.swiggy.com/restaurants/dilwale-res...  \n",
       "2              1000.0  https://www.swiggy.com/restaurants/dilwale-res...  \n",
       "3               150.0  https://www.swiggy.com/restaurants/dilwale-res...  \n",
       "4               150.0  https://www.swiggy.com/restaurants/dilwale-res...  "
      ]
     },
     "execution_count": 3,
     "metadata": {},
     "output_type": "execute_result"
    }
   ],
   "source": [
    "df = pd.read_excel(r\"project_02 (1).xlsx\")\n",
    "df.head()"
   ]
  },
  {
   "cell_type": "code",
   "execution_count": 4,
   "id": "a830471b",
   "metadata": {},
   "outputs": [
    {
     "data": {
      "text/plain": [
       "(1366, 11)"
      ]
     },
     "execution_count": 4,
     "metadata": {},
     "output_type": "execute_result"
    }
   ],
   "source": [
    "df.shape"
   ]
  },
  {
   "cell_type": "code",
   "execution_count": 5,
   "id": "9646d9ee",
   "metadata": {},
   "outputs": [
    {
     "data": {
      "text/html": [
       "<div>\n",
       "<style scoped>\n",
       "    .dataframe tbody tr th:only-of-type {\n",
       "        vertical-align: middle;\n",
       "    }\n",
       "\n",
       "    .dataframe tbody tr th {\n",
       "        vertical-align: top;\n",
       "    }\n",
       "\n",
       "    .dataframe thead th {\n",
       "        text-align: right;\n",
       "    }\n",
       "</style>\n",
       "<table border=\"1\" class=\"dataframe\">\n",
       "  <thead>\n",
       "    <tr style=\"text-align: right;\">\n",
       "      <th></th>\n",
       "      <th>Rest_id</th>\n",
       "      <th>Rest_Name</th>\n",
       "      <th>Unnamed: 2</th>\n",
       "      <th>Price_for_two</th>\n",
       "      <th>Price for two</th>\n",
       "      <th>Price for one</th>\n",
       "      <th>Cuisines</th>\n",
       "      <th>Cuisine</th>\n",
       "      <th>Location</th>\n",
       "      <th>Delivery_review_no</th>\n",
       "      <th>URL</th>\n",
       "    </tr>\n",
       "  </thead>\n",
       "  <tbody>\n",
       "  </tbody>\n",
       "</table>\n",
       "</div>"
      ],
      "text/plain": [
       "Empty DataFrame\n",
       "Columns: [Rest_id, Rest_Name, Unnamed: 2, Price_for_two, Price for two, Price for one, Cuisines, Cuisine, Location, Delivery_review_no, URL]\n",
       "Index: []"
      ]
     },
     "execution_count": 5,
     "metadata": {},
     "output_type": "execute_result"
    }
   ],
   "source": [
    "df[df.duplicated()]"
   ]
  },
  {
   "cell_type": "code",
   "execution_count": 6,
   "id": "1c0aab4a",
   "metadata": {},
   "outputs": [],
   "source": [
    "df.rename(columns={'Unnamed: 2':'Ratings'},inplace = True)"
   ]
  },
  {
   "cell_type": "code",
   "execution_count": 7,
   "id": "d655dc93",
   "metadata": {},
   "outputs": [
    {
     "data": {
      "text/html": [
       "<div>\n",
       "<style scoped>\n",
       "    .dataframe tbody tr th:only-of-type {\n",
       "        vertical-align: middle;\n",
       "    }\n",
       "\n",
       "    .dataframe tbody tr th {\n",
       "        vertical-align: top;\n",
       "    }\n",
       "\n",
       "    .dataframe thead th {\n",
       "        text-align: right;\n",
       "    }\n",
       "</style>\n",
       "<table border=\"1\" class=\"dataframe\">\n",
       "  <thead>\n",
       "    <tr style=\"text-align: right;\">\n",
       "      <th></th>\n",
       "      <th>Rest_id</th>\n",
       "      <th>Rest_Name</th>\n",
       "      <th>Ratings</th>\n",
       "      <th>Price_for_two</th>\n",
       "      <th>Price for two</th>\n",
       "      <th>Price for one</th>\n",
       "      <th>Cuisines</th>\n",
       "      <th>Cuisine</th>\n",
       "      <th>Location</th>\n",
       "      <th>Delivery_review_no</th>\n",
       "      <th>URL</th>\n",
       "    </tr>\n",
       "  </thead>\n",
       "  <tbody>\n",
       "    <tr>\n",
       "      <th>0</th>\n",
       "      <td>1</td>\n",
       "      <td>Hotel Empire</td>\n",
       "      <td>4.3</td>\n",
       "      <td>₹450 for two</td>\n",
       "      <td>450</td>\n",
       "      <td>225.0</td>\n",
       "      <td>North Indian, Kebabs</td>\n",
       "      <td>North Indian</td>\n",
       "      <td>Brigade Road</td>\n",
       "      <td>10000.0</td>\n",
       "      <td>https://www.swiggy.com/restaurants/dilwale-res...</td>\n",
       "    </tr>\n",
       "    <tr>\n",
       "      <th>1</th>\n",
       "      <td>2</td>\n",
       "      <td>Protein Station</td>\n",
       "      <td>NEW</td>\n",
       "      <td>₹400 for two</td>\n",
       "      <td>400</td>\n",
       "      <td>200.0</td>\n",
       "      <td>Healthy Food, Salads</td>\n",
       "      <td>Healthy Food</td>\n",
       "      <td>Basavanagudi</td>\n",
       "      <td>NaN</td>\n",
       "      <td>https://www.swiggy.com/restaurants/dilwale-res...</td>\n",
       "    </tr>\n",
       "    <tr>\n",
       "      <th>2</th>\n",
       "      <td>3</td>\n",
       "      <td>Halli Donne Biryani</td>\n",
       "      <td>3.9</td>\n",
       "      <td>₹200 for two</td>\n",
       "      <td>200</td>\n",
       "      <td>100.0</td>\n",
       "      <td>South Indian</td>\n",
       "      <td>South Indian</td>\n",
       "      <td>Koramangala</td>\n",
       "      <td>1000.0</td>\n",
       "      <td>https://www.swiggy.com/restaurants/dilwale-res...</td>\n",
       "    </tr>\n",
       "    <tr>\n",
       "      <th>3</th>\n",
       "      <td>4</td>\n",
       "      <td>Edesia by Freshmenu</td>\n",
       "      <td>3.9</td>\n",
       "      <td>₹150 for two</td>\n",
       "      <td>150</td>\n",
       "      <td>75.0</td>\n",
       "      <td>Desserts, Bakery</td>\n",
       "      <td>Desserts</td>\n",
       "      <td>Richmond Town</td>\n",
       "      <td>150.0</td>\n",
       "      <td>https://www.swiggy.com/restaurants/dilwale-res...</td>\n",
       "    </tr>\n",
       "    <tr>\n",
       "      <th>4</th>\n",
       "      <td>5</td>\n",
       "      <td>Mangalore Sea Palate</td>\n",
       "      <td>4.1</td>\n",
       "      <td>₹300 for two</td>\n",
       "      <td>300</td>\n",
       "      <td>150.0</td>\n",
       "      <td>Seafood, South Indian</td>\n",
       "      <td>Seafood</td>\n",
       "      <td>Jaya Nagar</td>\n",
       "      <td>150.0</td>\n",
       "      <td>https://www.swiggy.com/restaurants/dilwale-res...</td>\n",
       "    </tr>\n",
       "  </tbody>\n",
       "</table>\n",
       "</div>"
      ],
      "text/plain": [
       "   Rest_id             Rest_Name Ratings Price_for_two  Price for two  \\\n",
       "0        1          Hotel Empire     4.3  ₹450 for two            450   \n",
       "1        2       Protein Station     NEW  ₹400 for two            400   \n",
       "2        3   Halli Donne Biryani     3.9  ₹200 for two            200   \n",
       "3        4   Edesia by Freshmenu     3.9  ₹150 for two            150   \n",
       "4        5  Mangalore Sea Palate     4.1  ₹300 for two            300   \n",
       "\n",
       "   Price for one               Cuisines       Cuisine       Location  \\\n",
       "0          225.0   North Indian, Kebabs  North Indian   Brigade Road   \n",
       "1          200.0   Healthy Food, Salads  Healthy Food   Basavanagudi   \n",
       "2          100.0           South Indian  South Indian    Koramangala   \n",
       "3           75.0       Desserts, Bakery      Desserts  Richmond Town   \n",
       "4          150.0  Seafood, South Indian       Seafood     Jaya Nagar   \n",
       "\n",
       "   Delivery_review_no                                                URL  \n",
       "0             10000.0  https://www.swiggy.com/restaurants/dilwale-res...  \n",
       "1                 NaN  https://www.swiggy.com/restaurants/dilwale-res...  \n",
       "2              1000.0  https://www.swiggy.com/restaurants/dilwale-res...  \n",
       "3               150.0  https://www.swiggy.com/restaurants/dilwale-res...  \n",
       "4               150.0  https://www.swiggy.com/restaurants/dilwale-res...  "
      ]
     },
     "execution_count": 7,
     "metadata": {},
     "output_type": "execute_result"
    }
   ],
   "source": [
    "df.head()"
   ]
  },
  {
   "cell_type": "code",
   "execution_count": 8,
   "id": "61643258",
   "metadata": {},
   "outputs": [],
   "source": [
    "df=df.drop(['Rest_id','Rest_Name','Price_for_two','Price for two','Cuisines','URL'],axis=1)"
   ]
  },
  {
   "cell_type": "code",
   "execution_count": 9,
   "id": "b048aa0f",
   "metadata": {},
   "outputs": [
    {
     "data": {
      "text/html": [
       "<div>\n",
       "<style scoped>\n",
       "    .dataframe tbody tr th:only-of-type {\n",
       "        vertical-align: middle;\n",
       "    }\n",
       "\n",
       "    .dataframe tbody tr th {\n",
       "        vertical-align: top;\n",
       "    }\n",
       "\n",
       "    .dataframe thead th {\n",
       "        text-align: right;\n",
       "    }\n",
       "</style>\n",
       "<table border=\"1\" class=\"dataframe\">\n",
       "  <thead>\n",
       "    <tr style=\"text-align: right;\">\n",
       "      <th></th>\n",
       "      <th>Ratings</th>\n",
       "      <th>Price for one</th>\n",
       "      <th>Cuisine</th>\n",
       "      <th>Location</th>\n",
       "      <th>Delivery_review_no</th>\n",
       "    </tr>\n",
       "  </thead>\n",
       "  <tbody>\n",
       "    <tr>\n",
       "      <th>0</th>\n",
       "      <td>4.3</td>\n",
       "      <td>225.0</td>\n",
       "      <td>North Indian</td>\n",
       "      <td>Brigade Road</td>\n",
       "      <td>10000.0</td>\n",
       "    </tr>\n",
       "    <tr>\n",
       "      <th>1</th>\n",
       "      <td>NEW</td>\n",
       "      <td>200.0</td>\n",
       "      <td>Healthy Food</td>\n",
       "      <td>Basavanagudi</td>\n",
       "      <td>NaN</td>\n",
       "    </tr>\n",
       "    <tr>\n",
       "      <th>2</th>\n",
       "      <td>3.9</td>\n",
       "      <td>100.0</td>\n",
       "      <td>South Indian</td>\n",
       "      <td>Koramangala</td>\n",
       "      <td>1000.0</td>\n",
       "    </tr>\n",
       "    <tr>\n",
       "      <th>3</th>\n",
       "      <td>3.9</td>\n",
       "      <td>75.0</td>\n",
       "      <td>Desserts</td>\n",
       "      <td>Richmond Town</td>\n",
       "      <td>150.0</td>\n",
       "    </tr>\n",
       "    <tr>\n",
       "      <th>4</th>\n",
       "      <td>4.1</td>\n",
       "      <td>150.0</td>\n",
       "      <td>Seafood</td>\n",
       "      <td>Jaya Nagar</td>\n",
       "      <td>150.0</td>\n",
       "    </tr>\n",
       "  </tbody>\n",
       "</table>\n",
       "</div>"
      ],
      "text/plain": [
       "  Ratings  Price for one       Cuisine       Location  Delivery_review_no\n",
       "0     4.3          225.0  North Indian   Brigade Road             10000.0\n",
       "1     NEW          200.0  Healthy Food   Basavanagudi                 NaN\n",
       "2     3.9          100.0  South Indian    Koramangala              1000.0\n",
       "3     3.9           75.0      Desserts  Richmond Town               150.0\n",
       "4     4.1          150.0       Seafood     Jaya Nagar               150.0"
      ]
     },
     "execution_count": 9,
     "metadata": {},
     "output_type": "execute_result"
    }
   ],
   "source": [
    "df.head()"
   ]
  },
  {
   "cell_type": "code",
   "execution_count": 10,
   "id": "730a7165",
   "metadata": {},
   "outputs": [
    {
     "data": {
      "text/plain": [
       "Ratings                object\n",
       "Price for one         float64\n",
       "Cuisine                object\n",
       "Location               object\n",
       "Delivery_review_no    float64\n",
       "dtype: object"
      ]
     },
     "execution_count": 10,
     "metadata": {},
     "output_type": "execute_result"
    }
   ],
   "source": [
    "df.dtypes"
   ]
  },
  {
   "cell_type": "code",
   "execution_count": 11,
   "id": "4989904e",
   "metadata": {},
   "outputs": [
    {
     "data": {
      "text/plain": [
       "array(['--', '1.3', '2.1', '2.3', '2.4', '2.5', '2.6', '2.8', '2.9',\n",
       "       '3.0', '3.1', '3.2', '3.3', '3.4', '3.5', '3.6', '3.7', '3.8',\n",
       "       '3.9', '4.0', '4.1', '4.2', '4.3', '4.4', '4.5', '4.6', '4.7',\n",
       "       '4.8', '4.9', '5.0', 'NEW'], dtype=object)"
      ]
     },
     "execution_count": 11,
     "metadata": {},
     "output_type": "execute_result"
    }
   ],
   "source": [
    "df['Ratings'].sort_values().unique()"
   ]
  },
  {
   "cell_type": "code",
   "execution_count": 12,
   "id": "57c5ccfe",
   "metadata": {},
   "outputs": [],
   "source": [
    "df['Ratings']=df['Ratings'].replace(['--','NEW'],np.nan)"
   ]
  },
  {
   "cell_type": "code",
   "execution_count": 13,
   "id": "c6232b14",
   "metadata": {},
   "outputs": [],
   "source": [
    "df['Ratings']=df['Ratings'].astype(float)"
   ]
  },
  {
   "cell_type": "code",
   "execution_count": 14,
   "id": "5444a33b",
   "metadata": {},
   "outputs": [
    {
     "data": {
      "text/plain": [
       "<AxesSubplot:>"
      ]
     },
     "execution_count": 14,
     "metadata": {},
     "output_type": "execute_result"
    },
    {
     "data": {
      "image/png": "[encoded data removed]",
      "text/plain": [
       "<Figure size 640x480 with 2 Axes>"
      ]
     },
     "metadata": {},
     "output_type": "display_data"
    }
   ],
   "source": [
    "sns.heatmap(df.corr(),annot=True)"
   ]
  },
  {
   "cell_type": "code",
   "execution_count": 15,
   "id": "3f03693e",
   "metadata": {},
   "outputs": [
    {
     "data": {
      "text/html": [
       "<div>\n",
       "<style scoped>\n",
       "    .dataframe tbody tr th:only-of-type {\n",
       "        vertical-align: middle;\n",
       "    }\n",
       "\n",
       "    .dataframe tbody tr th {\n",
       "        vertical-align: top;\n",
       "    }\n",
       "\n",
       "    .dataframe thead th {\n",
       "        text-align: right;\n",
       "    }\n",
       "</style>\n",
       "<table border=\"1\" class=\"dataframe\">\n",
       "  <thead>\n",
       "    <tr style=\"text-align: right;\">\n",
       "      <th></th>\n",
       "      <th>Ratings</th>\n",
       "      <th>Price for one</th>\n",
       "      <th>Delivery_review_no</th>\n",
       "    </tr>\n",
       "  </thead>\n",
       "  <tbody>\n",
       "    <tr>\n",
       "      <th>count</th>\n",
       "      <td>1077.000000</td>\n",
       "      <td>1366.000000</td>\n",
       "      <td>1220.000000</td>\n",
       "    </tr>\n",
       "    <tr>\n",
       "      <th>mean</th>\n",
       "      <td>4.074280</td>\n",
       "      <td>175.682650</td>\n",
       "      <td>1284.113115</td>\n",
       "    </tr>\n",
       "    <tr>\n",
       "      <th>std</th>\n",
       "      <td>0.414444</td>\n",
       "      <td>120.114615</td>\n",
       "      <td>2738.195032</td>\n",
       "    </tr>\n",
       "    <tr>\n",
       "      <th>min</th>\n",
       "      <td>1.300000</td>\n",
       "      <td>1.000000</td>\n",
       "      <td>2.000000</td>\n",
       "    </tr>\n",
       "    <tr>\n",
       "      <th>25%</th>\n",
       "      <td>3.900000</td>\n",
       "      <td>100.000000</td>\n",
       "      <td>50.000000</td>\n",
       "    </tr>\n",
       "    <tr>\n",
       "      <th>50%</th>\n",
       "      <td>4.100000</td>\n",
       "      <td>150.000000</td>\n",
       "      <td>150.000000</td>\n",
       "    </tr>\n",
       "    <tr>\n",
       "      <th>75%</th>\n",
       "      <td>4.300000</td>\n",
       "      <td>222.500000</td>\n",
       "      <td>1000.000000</td>\n",
       "    </tr>\n",
       "    <tr>\n",
       "      <th>max</th>\n",
       "      <td>5.000000</td>\n",
       "      <td>1000.000000</td>\n",
       "      <td>10000.000000</td>\n",
       "    </tr>\n",
       "  </tbody>\n",
       "</table>\n",
       "</div>"
      ],
      "text/plain": [
       "           Ratings  Price for one  Delivery_review_no\n",
       "count  1077.000000    1366.000000         1220.000000\n",
       "mean      4.074280     175.682650         1284.113115\n",
       "std       0.414444     120.114615         2738.195032\n",
       "min       1.300000       1.000000            2.000000\n",
       "25%       3.900000     100.000000           50.000000\n",
       "50%       4.100000     150.000000          150.000000\n",
       "75%       4.300000     222.500000         1000.000000\n",
       "max       5.000000    1000.000000        10000.000000"
      ]
     },
     "execution_count": 15,
     "metadata": {},
     "output_type": "execute_result"
    }
   ],
   "source": [
    "df.describe()"
   ]
  },
  {
   "cell_type": "code",
   "execution_count": 16,
   "id": "a567180a",
   "metadata": {},
   "outputs": [
    {
     "data": {
      "text/plain": [
       "Ratings               289\n",
       "Price for one           0\n",
       "Cuisine                 0\n",
       "Location                0\n",
       "Delivery_review_no    146\n",
       "dtype: int64"
      ]
     },
     "execution_count": 16,
     "metadata": {},
     "output_type": "execute_result"
    }
   ],
   "source": [
    "df.isnull().sum()"
   ]
  },
  {
   "cell_type": "code",
   "execution_count": 17,
   "id": "2597a350",
   "metadata": {},
   "outputs": [],
   "source": [
    "df['Ratings']=df['Ratings'].fillna(df['Ratings'].mean())"
   ]
  },
  {
   "cell_type": "code",
   "execution_count": 18,
   "id": "d70c33b2",
   "metadata": {},
   "outputs": [],
   "source": [
    "df['Delivery_review_no']=df['Delivery_review_no'].fillna(df['Delivery_review_no'].median())"
   ]
  },
  {
   "cell_type": "code",
   "execution_count": 19,
   "id": "aed3f702",
   "metadata": {},
   "outputs": [
    {
     "data": {
      "text/plain": [
       "Ratings               0\n",
       "Price for one         0\n",
       "Cuisine               0\n",
       "Location              0\n",
       "Delivery_review_no    0\n",
       "dtype: int64"
      ]
     },
     "execution_count": 19,
     "metadata": {},
     "output_type": "execute_result"
    }
   ],
   "source": [
    "df.isnull().sum()"
   ]
  },
  {
   "cell_type": "code",
   "execution_count": 20,
   "id": "7ad386e4",
   "metadata": {},
   "outputs": [],
   "source": [
    "df['Delivery_review_no']=df['Delivery_review_no'].astype(int)"
   ]
  },
  {
   "cell_type": "code",
   "execution_count": 21,
   "id": "7e93081e",
   "metadata": {},
   "outputs": [],
   "source": [
    "df['Ratings']=round(df['Ratings'],1)"
   ]
  },
  {
   "cell_type": "code",
   "execution_count": 22,
   "id": "f14e7c29",
   "metadata": {},
   "outputs": [
    {
     "data": {
      "text/html": [
       "<div>\n",
       "<style scoped>\n",
       "    .dataframe tbody tr th:only-of-type {\n",
       "        vertical-align: middle;\n",
       "    }\n",
       "\n",
       "    .dataframe tbody tr th {\n",
       "        vertical-align: top;\n",
       "    }\n",
       "\n",
       "    .dataframe thead th {\n",
       "        text-align: right;\n",
       "    }\n",
       "</style>\n",
       "<table border=\"1\" class=\"dataframe\">\n",
       "  <thead>\n",
       "    <tr style=\"text-align: right;\">\n",
       "      <th></th>\n",
       "      <th>Ratings</th>\n",
       "      <th>Price for one</th>\n",
       "      <th>Cuisine</th>\n",
       "      <th>Location</th>\n",
       "      <th>Delivery_review_no</th>\n",
       "    </tr>\n",
       "  </thead>\n",
       "  <tbody>\n",
       "    <tr>\n",
       "      <th>0</th>\n",
       "      <td>4.3</td>\n",
       "      <td>225.0</td>\n",
       "      <td>North Indian</td>\n",
       "      <td>Brigade Road</td>\n",
       "      <td>10000</td>\n",
       "    </tr>\n",
       "    <tr>\n",
       "      <th>1</th>\n",
       "      <td>4.1</td>\n",
       "      <td>200.0</td>\n",
       "      <td>Healthy Food</td>\n",
       "      <td>Basavanagudi</td>\n",
       "      <td>150</td>\n",
       "    </tr>\n",
       "    <tr>\n",
       "      <th>2</th>\n",
       "      <td>3.9</td>\n",
       "      <td>100.0</td>\n",
       "      <td>South Indian</td>\n",
       "      <td>Koramangala</td>\n",
       "      <td>1000</td>\n",
       "    </tr>\n",
       "    <tr>\n",
       "      <th>3</th>\n",
       "      <td>3.9</td>\n",
       "      <td>75.0</td>\n",
       "      <td>Desserts</td>\n",
       "      <td>Richmond Town</td>\n",
       "      <td>150</td>\n",
       "    </tr>\n",
       "    <tr>\n",
       "      <th>4</th>\n",
       "      <td>4.1</td>\n",
       "      <td>150.0</td>\n",
       "      <td>Seafood</td>\n",
       "      <td>Jaya Nagar</td>\n",
       "      <td>150</td>\n",
       "    </tr>\n",
       "  </tbody>\n",
       "</table>\n",
       "</div>"
      ],
      "text/plain": [
       "   Ratings  Price for one       Cuisine       Location  Delivery_review_no\n",
       "0      4.3          225.0  North Indian   Brigade Road               10000\n",
       "1      4.1          200.0  Healthy Food   Basavanagudi                 150\n",
       "2      3.9          100.0  South Indian    Koramangala                1000\n",
       "3      3.9           75.0      Desserts  Richmond Town                 150\n",
       "4      4.1          150.0       Seafood     Jaya Nagar                 150"
      ]
     },
     "execution_count": 22,
     "metadata": {},
     "output_type": "execute_result"
    }
   ],
   "source": [
    "df.head()"
   ]
  },
  {
   "cell_type": "code",
   "execution_count": 23,
   "id": "90e54683",
   "metadata": {},
   "outputs": [
    {
     "data": {
      "text/plain": [
       "66"
      ]
     },
     "execution_count": 23,
     "metadata": {},
     "output_type": "execute_result"
    }
   ],
   "source": [
    "df['Location'].nunique()"
   ]
  },
  {
   "cell_type": "code",
   "execution_count": 24,
   "id": "654fce12",
   "metadata": {},
   "outputs": [
    {
     "data": {
      "text/plain": [
       "63"
      ]
     },
     "execution_count": 24,
     "metadata": {},
     "output_type": "execute_result"
    }
   ],
   "source": [
    "df['Cuisine'].nunique()"
   ]
  },
  {
   "cell_type": "code",
   "execution_count": 25,
   "id": "c3e3fac8",
   "metadata": {},
   "outputs": [
    {
     "data": {
      "text/html": [
       "<div>\n",
       "<style scoped>\n",
       "    .dataframe tbody tr th:only-of-type {\n",
       "        vertical-align: middle;\n",
       "    }\n",
       "\n",
       "    .dataframe tbody tr th {\n",
       "        vertical-align: top;\n",
       "    }\n",
       "\n",
       "    .dataframe thead th {\n",
       "        text-align: right;\n",
       "    }\n",
       "</style>\n",
       "<table border=\"1\" class=\"dataframe\">\n",
       "  <thead>\n",
       "    <tr style=\"text-align: right;\">\n",
       "      <th></th>\n",
       "      <th>Cuisine</th>\n",
       "      <th>Price for one</th>\n",
       "    </tr>\n",
       "  </thead>\n",
       "  <tbody>\n",
       "    <tr>\n",
       "      <th>0</th>\n",
       "      <td>American</td>\n",
       "      <td>304.166667</td>\n",
       "    </tr>\n",
       "    <tr>\n",
       "      <th>1</th>\n",
       "      <td>Andhra</td>\n",
       "      <td>263.636364</td>\n",
       "    </tr>\n",
       "    <tr>\n",
       "      <th>2</th>\n",
       "      <td>Arabian</td>\n",
       "      <td>221.875000</td>\n",
       "    </tr>\n",
       "    <tr>\n",
       "      <th>3</th>\n",
       "      <td>Asian</td>\n",
       "      <td>456.666667</td>\n",
       "    </tr>\n",
       "    <tr>\n",
       "      <th>4</th>\n",
       "      <td>Bakery</td>\n",
       "      <td>183.797619</td>\n",
       "    </tr>\n",
       "    <tr>\n",
       "      <th>...</th>\n",
       "      <td>...</td>\n",
       "      <td>...</td>\n",
       "    </tr>\n",
       "    <tr>\n",
       "      <th>58</th>\n",
       "      <td>Tex-Mex</td>\n",
       "      <td>250.000000</td>\n",
       "    </tr>\n",
       "    <tr>\n",
       "      <th>59</th>\n",
       "      <td>Thai</td>\n",
       "      <td>370.000000</td>\n",
       "    </tr>\n",
       "    <tr>\n",
       "      <th>60</th>\n",
       "      <td>Thalis</td>\n",
       "      <td>106.250000</td>\n",
       "    </tr>\n",
       "    <tr>\n",
       "      <th>61</th>\n",
       "      <td>Tibetan</td>\n",
       "      <td>141.666667</td>\n",
       "    </tr>\n",
       "    <tr>\n",
       "      <th>62</th>\n",
       "      <td>Waffle</td>\n",
       "      <td>158.333333</td>\n",
       "    </tr>\n",
       "  </tbody>\n",
       "</table>\n",
       "<p>63 rows × 2 columns</p>\n",
       "</div>"
      ],
      "text/plain": [
       "     Cuisine  Price for one\n",
       "0   American     304.166667\n",
       "1     Andhra     263.636364\n",
       "2    Arabian     221.875000\n",
       "3      Asian     456.666667\n",
       "4     Bakery     183.797619\n",
       "..       ...            ...\n",
       "58   Tex-Mex     250.000000\n",
       "59      Thai     370.000000\n",
       "60    Thalis     106.250000\n",
       "61   Tibetan     141.666667\n",
       "62    Waffle     158.333333\n",
       "\n",
       "[63 rows x 2 columns]"
      ]
     },
     "execution_count": 25,
     "metadata": {},
     "output_type": "execute_result"
    }
   ],
   "source": [
    "# Average price for each cuisine\n",
    "df.groupby('Cuisine')['Price for one'].mean().reset_index()"
   ]
  },
  {
   "cell_type": "markdown",
   "id": "df463631",
   "metadata": {},
   "source": [
    "# Linear Regression"
   ]
  },
  {
   "cell_type": "code",
   "execution_count": 26,
   "id": "7f9f56ab",
   "metadata": {},
   "outputs": [],
   "source": [
    "x = df.drop('Price for one',axis=1)\n",
    "y = df['Price for one']"
   ]
  },
  {
   "cell_type": "code",
   "execution_count": 27,
   "id": "014fd7a2",
   "metadata": {},
   "outputs": [],
   "source": [
    "x = pd.get_dummies(df, columns=['Cuisine','Location'], drop_first=True)"
   ]
  },
  {
   "cell_type": "code",
   "execution_count": 28,
   "id": "6bc97bb2",
   "metadata": {},
   "outputs": [],
   "source": [
    "x_train, x_test, y_train, y_test = train_test_split(x,y, test_size=0.2, random_state=10)"
   ]
  },
  {
   "cell_type": "code",
   "execution_count": 29,
   "id": "021494b5",
   "metadata": {},
   "outputs": [],
   "source": [
    "lr = LinearRegression()"
   ]
  },
  {
   "cell_type": "code",
   "execution_count": 30,
   "id": "c03e8cc6",
   "metadata": {},
   "outputs": [
    {
     "data": {
      "text/plain": [
       "LinearRegression()"
      ]
     },
     "execution_count": 30,
     "metadata": {},
     "output_type": "execute_result"
    }
   ],
   "source": [
    "lr.fit(x_train, y_train)"
   ]
  },
  {
   "cell_type": "code",
   "execution_count": 31,
   "id": "53584719",
   "metadata": {},
   "outputs": [
    {
     "data": {
      "text/plain": [
       "array([ 135. ,  100. ,  199.5,  175. ,  150. ,  100. ,  100. ,  375. ,\n",
       "        150. ,   75. ,  100. ,  100. ,  125. ,  125. ,  150. ,  100. ,\n",
       "        100. ,   75. ,  150. ,   95. ,  175. ,   75. ,  250. ,  250. ,\n",
       "        125. ,  550. ,  100. ,  175. ,  200. ,  300. ,  125. ,  300. ,\n",
       "         90. ,  150. ,   50. ,  100. ,  150. ,  175. ,   75. ,  225. ,\n",
       "        125. ,   75. ,  125. ,  250. ,  300. ,  150. ,  250. ,  100. ,\n",
       "        125. ,  125. ,  250. ,  100. ,  450. ,  400. ,  250. ,  250. ,\n",
       "         75. ,  175. ,   75. ,   15. ,  250. ,  175. ,  140. ,  100. ,\n",
       "        249.5,  200. ,  150. ,  200. ,  120. ,  500. ,  100. ,  150. ,\n",
       "        100. ,  150. ,   60. ,   60. ,  100. ,   16. ,  150. ,  250. ,\n",
       "        150. ,  125. ,  125. ,   75. ,  150. ,  100. ,   60. ,  250. ,\n",
       "         75. ,  100. ,  325. ,   50. ,  200. ,  125. ,  125. ,  175. ,\n",
       "        135. ,  200. ,  100. ,  200. ,  125. ,  150. , 1000. ,  225. ,\n",
       "        150. ,  300. ,  150. ,  175. ,  100. ,   75. ,  300. ,  400. ,\n",
       "         75. ,  250. ,  250. ,  125. ,   75. ,  149.5,  175. ,  250. ,\n",
       "        250. ,   75. ,  225. ,   75. ,  200. ,  250. ,  249.5,  125. ,\n",
       "        225. ,   96.5,  200. ,  100. ,   75. ,   50. ,  150. ,  100. ,\n",
       "        300. ,  100. ,  150. ,   90. ,  300. ,  125. ,   84.5,  175. ,\n",
       "        275. ,  100. ,  125. ,  100. ,  250. ,  150. ,  300. ,  200. ,\n",
       "        125. ,  250. ,  125. ,  150. ,  100. ,   75. ,  200. ,  200. ,\n",
       "        300. ,  125. ,  175. ,   75. ,  100. ,   75. ,  150. ,  150. ,\n",
       "        100. ,   49.5,  150. ,   50. ,  125. ,  150. ,   75. ,  100. ,\n",
       "        100. ,  125. ,  175. ,  125. ,  150. ,  300. ,  600. ,  200. ,\n",
       "        125. ,  125. ,  100. ,  200. ,  150. ,   50. ,  200. ,   75. ,\n",
       "        150. ,  300. ,  150. ,  175. ,  200. ,  225. ,  150. ,  600. ,\n",
       "         75. ,  125. ,  100. ,  100. ,  100. ,  150. ,  200. ,  100. ,\n",
       "        100. ,  250. ,  175. ,  125. ,  200. ,  100. ,  150. ,  200. ,\n",
       "        175. ,  200. ,  225. ,  100. ,  600. ,   75. ,  250. ,   75. ,\n",
       "         49.5,   75. ,  150. ,  200. ,  200. ,  200. ,   75. ,  250. ,\n",
       "        250. ,   75. ,  225. ,   85. ,   90. ,   99.5,  250. ,  150. ,\n",
       "        125. ,  150. ,  200. ,  250. ,   70. ,  100. ,    2.5,  225. ,\n",
       "         75. ,  149.5,  175. ,  100. ,  250. ,  350. ,   50. ,   50. ,\n",
       "        120. ,  150. ,   75. ,  300. ,  100. ,  125. ,  400. ,  250. ,\n",
       "        100. ,   49.5,  100. ,  250. ,  150. ,  150. ,  250. ,  300. ,\n",
       "         75. ,  100. ])"
      ]
     },
     "execution_count": 31,
     "metadata": {},
     "output_type": "execute_result"
    }
   ],
   "source": [
    "y_pred = lr.predict(x_test)\n",
    "y_pred"
   ]
  },
  {
   "cell_type": "code",
   "execution_count": 32,
   "id": "d866d87b",
   "metadata": {},
   "outputs": [
    {
     "data": {
      "text/plain": [
       "1.4928347896593714e-23"
      ]
     },
     "execution_count": 32,
     "metadata": {},
     "output_type": "execute_result"
    }
   ],
   "source": [
    "metrics.mean_squared_error(y_test, y_pred)"
   ]
  },
  {
   "cell_type": "code",
   "execution_count": 33,
   "id": "68e65c8d",
   "metadata": {},
   "outputs": [
    {
     "data": {
      "text/plain": [
       "3.863722026310085e-12"
      ]
     },
     "execution_count": 33,
     "metadata": {},
     "output_type": "execute_result"
    }
   ],
   "source": [
    "np.sqrt(metrics.mean_squared_error(y_test, y_pred))"
   ]
  },
  {
   "cell_type": "code",
   "execution_count": 34,
   "id": "09aad1dd",
   "metadata": {},
   "outputs": [
    {
     "data": {
      "text/plain": [
       "1.0"
      ]
     },
     "execution_count": 34,
     "metadata": {},
     "output_type": "execute_result"
    }
   ],
   "source": [
    "metrics.r2_score(y_test, y_pred)"
   ]
  },
  {
   "cell_type": "code",
   "execution_count": 34,
   "id": "21d7db47",
   "metadata": {},
   "outputs": [],
   "source": [
    "# import pickle\n",
    "# lr = LinearRegression()\n",
    "# lr.fit(x_train,y_train)\n",
    "# pickle.dump(lr,open('Swiggy_price_pred.pkl','wb'))"
   ]
  },
  {
   "cell_type": "code",
   "execution_count": 37,
   "id": "7b148b93",
   "metadata": {},
   "outputs": [
    {
     "data": {
      "text/html": [
       "<style>#sk-container-id-2 {color: black;background-color: white;}#sk-container-id-2 pre{padding: 0;}#sk-container-id-2 div.sk-toggleable {background-color: white;}#sk-container-id-2 label.sk-toggleable__label {cursor: pointer;display: block;width: 100%;margin-bottom: 0;padding: 0.3em;box-sizing: border-box;text-align: center;}#sk-container-id-2 label.sk-toggleable__label-arrow:before {content: \"▸\";float: left;margin-right: 0.25em;color: #696969;}#sk-container-id-2 label.sk-toggleable__label-arrow:hover:before {color: black;}#sk-container-id-2 div.sk-estimator:hover label.sk-toggleable__label-arrow:before {color: black;}#sk-container-id-2 div.sk-toggleable__content {max-height: 0;max-width: 0;overflow: hidden;text-align: left;background-color: #f0f8ff;}#sk-container-id-2 div.sk-toggleable__content pre {margin: 0.2em;color: black;border-radius: 0.25em;background-color: #f0f8ff;}#sk-container-id-2 input.sk-toggleable__control:checked~div.sk-toggleable__content {max-height: 200px;max-width: 100%;overflow: auto;}#sk-container-id-2 input.sk-toggleable__control:checked~label.sk-toggleable__label-arrow:before {content: \"▾\";}#sk-container-id-2 div.sk-estimator input.sk-toggleable__control:checked~label.sk-toggleable__label {background-color: #d4ebff;}#sk-container-id-2 div.sk-label input.sk-toggleable__control:checked~label.sk-toggleable__label {background-color: #d4ebff;}#sk-container-id-2 input.sk-hidden--visually {border: 0;clip: rect(1px 1px 1px 1px);clip: rect(1px, 1px, 1px, 1px);height: 1px;margin: -1px;overflow: hidden;padding: 0;position: absolute;width: 1px;}#sk-container-id-2 div.sk-estimator {font-family: monospace;background-color: #f0f8ff;border: 1px dotted black;border-radius: 0.25em;box-sizing: border-box;margin-bottom: 0.5em;}#sk-container-id-2 div.sk-estimator:hover {background-color: #d4ebff;}#sk-container-id-2 div.sk-parallel-item::after {content: \"\";width: 100%;border-bottom: 1px solid gray;flex-grow: 1;}#sk-container-id-2 div.sk-label:hover label.sk-toggleable__label {background-color: #d4ebff;}#sk-container-id-2 div.sk-serial::before {content: \"\";position: absolute;border-left: 1px solid gray;box-sizing: border-box;top: 0;bottom: 0;left: 50%;z-index: 0;}#sk-container-id-2 div.sk-serial {display: flex;flex-direction: column;align-items: center;background-color: white;padding-right: 0.2em;padding-left: 0.2em;position: relative;}#sk-container-id-2 div.sk-item {position: relative;z-index: 1;}#sk-container-id-2 div.sk-parallel {display: flex;align-items: stretch;justify-content: center;background-color: white;position: relative;}#sk-container-id-2 div.sk-item::before, #sk-container-id-2 div.sk-parallel-item::before {content: \"\";position: absolute;border-left: 1px solid gray;box-sizing: border-box;top: 0;bottom: 0;left: 50%;z-index: -1;}#sk-container-id-2 div.sk-parallel-item {display: flex;flex-direction: column;z-index: 1;position: relative;background-color: white;}#sk-container-id-2 div.sk-parallel-item:first-child::after {align-self: flex-end;width: 50%;}#sk-container-id-2 div.sk-parallel-item:last-child::after {align-self: flex-start;width: 50%;}#sk-container-id-2 div.sk-parallel-item:only-child::after {width: 0;}#sk-container-id-2 div.sk-dashed-wrapped {border: 1px dashed gray;margin: 0 0.4em 0.5em 0.4em;box-sizing: border-box;padding-bottom: 0.4em;background-color: white;}#sk-container-id-2 div.sk-label label {font-family: monospace;font-weight: bold;display: inline-block;line-height: 1.2em;}#sk-container-id-2 div.sk-label-container {text-align: center;}#sk-container-id-2 div.sk-container {/* jupyter's `normalize.less` sets `[hidden] { display: none; }` but bootstrap.min.css set `[hidden] { display: none !important; }` so we also need the `!important` here to be able to override the default hidden behavior on the sphinx rendered scikit-learn.org. See: https://github.com/scikit-learn/scikit-learn/issues/21755 */display: inline-block !important;position: relative;}#sk-container-id-2 div.sk-text-repr-fallback {display: none;}</style><div id=\"sk-container-id-2\" class=\"sk-top-container\"><div class=\"sk-text-repr-fallback\"><pre>LinearRegression()</pre><b>In a Jupyter environment, please rerun this cell to show the HTML representation or trust the notebook. <br />On GitHub, the HTML representation is unable to render, please try loading this page with nbviewer.org.</b></div><div class=\"sk-container\" hidden><div class=\"sk-item\"><div class=\"sk-estimator sk-toggleable\"><input class=\"sk-toggleable__control sk-hidden--visually\" id=\"sk-estimator-id-2\" type=\"checkbox\" checked><label for=\"sk-estimator-id-2\" class=\"sk-toggleable__label sk-toggleable__label-arrow\">LinearRegression</label><div class=\"sk-toggleable__content\"><pre>LinearRegression()</pre></div></div></div></div></div>"
      ],
      "text/plain": [
       "LinearRegression()"
      ]
     },
     "execution_count": 37,
     "metadata": {},
     "output_type": "execute_result"
    }
   ],
   "source": [
    "# lr = LinearRegression()\n",
    "# lr.fit(x_train,y_train)"
   ]
  },
  {
   "cell_type": "code",
   "execution_count": 41,
   "id": "c56bf862",
   "metadata": {},
   "outputs": [],
   "source": [
    "# pickle.dump(lr,open('Swiggy_price_pred.pkl','wb'))"
   ]
  },
  {
   "cell_type": "code",
   "execution_count": 43,
   "id": "32d3d37f",
   "metadata": {},
   "outputs": [
    {
     "data": {
      "text/html": [
       "<style>#sk-container-id-3 {color: black;background-color: white;}#sk-container-id-3 pre{padding: 0;}#sk-container-id-3 div.sk-toggleable {background-color: white;}#sk-container-id-3 label.sk-toggleable__label {cursor: pointer;display: block;width: 100%;margin-bottom: 0;padding: 0.3em;box-sizing: border-box;text-align: center;}#sk-container-id-3 label.sk-toggleable__label-arrow:before {content: \"▸\";float: left;margin-right: 0.25em;color: #696969;}#sk-container-id-3 label.sk-toggleable__label-arrow:hover:before {color: black;}#sk-container-id-3 div.sk-estimator:hover label.sk-toggleable__label-arrow:before {color: black;}#sk-container-id-3 div.sk-toggleable__content {max-height: 0;max-width: 0;overflow: hidden;text-align: left;background-color: #f0f8ff;}#sk-container-id-3 div.sk-toggleable__content pre {margin: 0.2em;color: black;border-radius: 0.25em;background-color: #f0f8ff;}#sk-container-id-3 input.sk-toggleable__control:checked~div.sk-toggleable__content {max-height: 200px;max-width: 100%;overflow: auto;}#sk-container-id-3 input.sk-toggleable__control:checked~label.sk-toggleable__label-arrow:before {content: \"▾\";}#sk-container-id-3 div.sk-estimator input.sk-toggleable__control:checked~label.sk-toggleable__label {background-color: #d4ebff;}#sk-container-id-3 div.sk-label input.sk-toggleable__control:checked~label.sk-toggleable__label {background-color: #d4ebff;}#sk-container-id-3 input.sk-hidden--visually {border: 0;clip: rect(1px 1px 1px 1px);clip: rect(1px, 1px, 1px, 1px);height: 1px;margin: -1px;overflow: hidden;padding: 0;position: absolute;width: 1px;}#sk-container-id-3 div.sk-estimator {font-family: monospace;background-color: #f0f8ff;border: 1px dotted black;border-radius: 0.25em;box-sizing: border-box;margin-bottom: 0.5em;}#sk-container-id-3 div.sk-estimator:hover {background-color: #d4ebff;}#sk-container-id-3 div.sk-parallel-item::after {content: \"\";width: 100%;border-bottom: 1px solid gray;flex-grow: 1;}#sk-container-id-3 div.sk-label:hover label.sk-toggleable__label {background-color: #d4ebff;}#sk-container-id-3 div.sk-serial::before {content: \"\";position: absolute;border-left: 1px solid gray;box-sizing: border-box;top: 0;bottom: 0;left: 50%;z-index: 0;}#sk-container-id-3 div.sk-serial {display: flex;flex-direction: column;align-items: center;background-color: white;padding-right: 0.2em;padding-left: 0.2em;position: relative;}#sk-container-id-3 div.sk-item {position: relative;z-index: 1;}#sk-container-id-3 div.sk-parallel {display: flex;align-items: stretch;justify-content: center;background-color: white;position: relative;}#sk-container-id-3 div.sk-item::before, #sk-container-id-3 div.sk-parallel-item::before {content: \"\";position: absolute;border-left: 1px solid gray;box-sizing: border-box;top: 0;bottom: 0;left: 50%;z-index: -1;}#sk-container-id-3 div.sk-parallel-item {display: flex;flex-direction: column;z-index: 1;position: relative;background-color: white;}#sk-container-id-3 div.sk-parallel-item:first-child::after {align-self: flex-end;width: 50%;}#sk-container-id-3 div.sk-parallel-item:last-child::after {align-self: flex-start;width: 50%;}#sk-container-id-3 div.sk-parallel-item:only-child::after {width: 0;}#sk-container-id-3 div.sk-dashed-wrapped {border: 1px dashed gray;margin: 0 0.4em 0.5em 0.4em;box-sizing: border-box;padding-bottom: 0.4em;background-color: white;}#sk-container-id-3 div.sk-label label {font-family: monospace;font-weight: bold;display: inline-block;line-height: 1.2em;}#sk-container-id-3 div.sk-label-container {text-align: center;}#sk-container-id-3 div.sk-container {/* jupyter's `normalize.less` sets `[hidden] { display: none; }` but bootstrap.min.css set `[hidden] { display: none !important; }` so we also need the `!important` here to be able to override the default hidden behavior on the sphinx rendered scikit-learn.org. See: https://github.com/scikit-learn/scikit-learn/issues/21755 */display: inline-block !important;position: relative;}#sk-container-id-3 div.sk-text-repr-fallback {display: none;}</style><div id=\"sk-container-id-3\" class=\"sk-top-container\"><div class=\"sk-text-repr-fallback\"><pre>LinearRegression()</pre><b>In a Jupyter environment, please rerun this cell to show the HTML representation or trust the notebook. <br />On GitHub, the HTML representation is unable to render, please try loading this page with nbviewer.org.</b></div><div class=\"sk-container\" hidden><div class=\"sk-item\"><div class=\"sk-estimator sk-toggleable\"><input class=\"sk-toggleable__control sk-hidden--visually\" id=\"sk-estimator-id-3\" type=\"checkbox\" checked><label for=\"sk-estimator-id-3\" class=\"sk-toggleable__label sk-toggleable__label-arrow\">LinearRegression</label><div class=\"sk-toggleable__content\"><pre>LinearRegression()</pre></div></div></div></div></div>"
      ],
      "text/plain": [
       "LinearRegression()"
      ]
     },
     "execution_count": 43,
     "metadata": {},
     "output_type": "execute_result"
    }
   ],
   "source": [
    "# model =  pickle.load(open('Swiggy_price_pred.pkl','rb'))\n",
    "# model"
   ]
  },
  {
   "cell_type": "markdown",
   "id": "2c302bea",
   "metadata": {},
   "source": [
    "# Logistic Regression"
   ]
  },
  {
   "cell_type": "code",
   "execution_count": null,
   "id": "9a3fe838",
   "metadata": {},
   "outputs": [],
   "source": [
    "# Location Prediction"
   ]
  },
  {
   "cell_type": "code",
   "execution_count": 35,
   "id": "fadd220f",
   "metadata": {},
   "outputs": [
    {
     "data": {
      "text/html": [
       "<div>\n",
       "<style scoped>\n",
       "    .dataframe tbody tr th:only-of-type {\n",
       "        vertical-align: middle;\n",
       "    }\n",
       "\n",
       "    .dataframe tbody tr th {\n",
       "        vertical-align: top;\n",
       "    }\n",
       "\n",
       "    .dataframe thead th {\n",
       "        text-align: right;\n",
       "    }\n",
       "</style>\n",
       "<table border=\"1\" class=\"dataframe\">\n",
       "  <thead>\n",
       "    <tr style=\"text-align: right;\">\n",
       "      <th></th>\n",
       "      <th>Ratings</th>\n",
       "      <th>Price for one</th>\n",
       "      <th>Cuisine</th>\n",
       "      <th>Location</th>\n",
       "      <th>Delivery_review_no</th>\n",
       "    </tr>\n",
       "  </thead>\n",
       "  <tbody>\n",
       "    <tr>\n",
       "      <th>0</th>\n",
       "      <td>4.3</td>\n",
       "      <td>225.0</td>\n",
       "      <td>North Indian</td>\n",
       "      <td>Brigade Road</td>\n",
       "      <td>10000</td>\n",
       "    </tr>\n",
       "    <tr>\n",
       "      <th>1</th>\n",
       "      <td>4.1</td>\n",
       "      <td>200.0</td>\n",
       "      <td>Healthy Food</td>\n",
       "      <td>Basavanagudi</td>\n",
       "      <td>150</td>\n",
       "    </tr>\n",
       "    <tr>\n",
       "      <th>2</th>\n",
       "      <td>3.9</td>\n",
       "      <td>100.0</td>\n",
       "      <td>South Indian</td>\n",
       "      <td>Koramangala</td>\n",
       "      <td>1000</td>\n",
       "    </tr>\n",
       "    <tr>\n",
       "      <th>3</th>\n",
       "      <td>3.9</td>\n",
       "      <td>75.0</td>\n",
       "      <td>Desserts</td>\n",
       "      <td>Richmond Town</td>\n",
       "      <td>150</td>\n",
       "    </tr>\n",
       "    <tr>\n",
       "      <th>4</th>\n",
       "      <td>4.1</td>\n",
       "      <td>150.0</td>\n",
       "      <td>Seafood</td>\n",
       "      <td>Jaya Nagar</td>\n",
       "      <td>150</td>\n",
       "    </tr>\n",
       "  </tbody>\n",
       "</table>\n",
       "</div>"
      ],
      "text/plain": [
       "   Ratings  Price for one       Cuisine       Location  Delivery_review_no\n",
       "0      4.3          225.0  North Indian   Brigade Road               10000\n",
       "1      4.1          200.0  Healthy Food   Basavanagudi                 150\n",
       "2      3.9          100.0  South Indian    Koramangala                1000\n",
       "3      3.9           75.0      Desserts  Richmond Town                 150\n",
       "4      4.1          150.0       Seafood     Jaya Nagar                 150"
      ]
     },
     "execution_count": 35,
     "metadata": {},
     "output_type": "execute_result"
    }
   ],
   "source": [
    "df.head()"
   ]
  },
  {
   "cell_type": "code",
   "execution_count": 36,
   "id": "231a8d6b",
   "metadata": {},
   "outputs": [],
   "source": [
    "df1 = df.copy()"
   ]
  },
  {
   "cell_type": "code",
   "execution_count": 37,
   "id": "da4dd4ce",
   "metadata": {},
   "outputs": [
    {
     "data": {
      "text/html": [
       "<div>\n",
       "<style scoped>\n",
       "    .dataframe tbody tr th:only-of-type {\n",
       "        vertical-align: middle;\n",
       "    }\n",
       "\n",
       "    .dataframe tbody tr th {\n",
       "        vertical-align: top;\n",
       "    }\n",
       "\n",
       "    .dataframe thead th {\n",
       "        text-align: right;\n",
       "    }\n",
       "</style>\n",
       "<table border=\"1\" class=\"dataframe\">\n",
       "  <thead>\n",
       "    <tr style=\"text-align: right;\">\n",
       "      <th></th>\n",
       "      <th>Ratings</th>\n",
       "      <th>Price for one</th>\n",
       "      <th>Cuisine</th>\n",
       "      <th>Location</th>\n",
       "      <th>Delivery_review_no</th>\n",
       "    </tr>\n",
       "  </thead>\n",
       "  <tbody>\n",
       "    <tr>\n",
       "      <th>0</th>\n",
       "      <td>4.3</td>\n",
       "      <td>225.0</td>\n",
       "      <td>North Indian</td>\n",
       "      <td>Brigade Road</td>\n",
       "      <td>10000</td>\n",
       "    </tr>\n",
       "    <tr>\n",
       "      <th>1</th>\n",
       "      <td>4.1</td>\n",
       "      <td>200.0</td>\n",
       "      <td>Healthy Food</td>\n",
       "      <td>Basavanagudi</td>\n",
       "      <td>150</td>\n",
       "    </tr>\n",
       "    <tr>\n",
       "      <th>2</th>\n",
       "      <td>3.9</td>\n",
       "      <td>100.0</td>\n",
       "      <td>South Indian</td>\n",
       "      <td>Koramangala</td>\n",
       "      <td>1000</td>\n",
       "    </tr>\n",
       "    <tr>\n",
       "      <th>3</th>\n",
       "      <td>3.9</td>\n",
       "      <td>75.0</td>\n",
       "      <td>Desserts</td>\n",
       "      <td>Richmond Town</td>\n",
       "      <td>150</td>\n",
       "    </tr>\n",
       "    <tr>\n",
       "      <th>4</th>\n",
       "      <td>4.1</td>\n",
       "      <td>150.0</td>\n",
       "      <td>Seafood</td>\n",
       "      <td>Jaya Nagar</td>\n",
       "      <td>150</td>\n",
       "    </tr>\n",
       "  </tbody>\n",
       "</table>\n",
       "</div>"
      ],
      "text/plain": [
       "   Ratings  Price for one       Cuisine       Location  Delivery_review_no\n",
       "0      4.3          225.0  North Indian   Brigade Road               10000\n",
       "1      4.1          200.0  Healthy Food   Basavanagudi                 150\n",
       "2      3.9          100.0  South Indian    Koramangala                1000\n",
       "3      3.9           75.0      Desserts  Richmond Town                 150\n",
       "4      4.1          150.0       Seafood     Jaya Nagar                 150"
      ]
     },
     "execution_count": 37,
     "metadata": {},
     "output_type": "execute_result"
    }
   ],
   "source": [
    "df1.head()"
   ]
  },
  {
   "cell_type": "code",
   "execution_count": 38,
   "id": "8c26f937",
   "metadata": {
    "scrolled": true
   },
   "outputs": [
    {
     "data": {
      "text/plain": [
       "array(['4th Block', 'Adugodi', 'Ashok Nagar', 'Austin Town', 'BTM Layout',\n",
       "       'Banashankari', 'Bannerghatta Main Road', 'Basavanagudi',\n",
       "       'Basaveshwar Nagar', 'Brigade Road', 'Bull Temple Road',\n",
       "       'Central Bangalore', 'Chamarajpet', 'Chikpete', 'Church Street',\n",
       "       'Church street', 'City Market', 'Commercial Street',\n",
       "       'Cunningham Road', 'Dispensary Rd', 'Domlur', 'Ejipura',\n",
       "       'FORUM REX WALK', 'Frazer Town', 'Gandhi Nagar', 'Halasuru',\n",
       "       'Indiranagar', 'Jaya Nagar', 'Koramangala', 'Lakshmi Road',\n",
       "       'Lavelle Road', 'Lavelle road', 'MG Road', 'Magrath Road',\n",
       "       'Majestic', 'Malleshwaram', 'Monarch Plaza', 'Mount Joy Rd',\n",
       "       'Mysore Road', 'Opp to Sapna Book House, Gandhi Nagar',\n",
       "       'PES college Hanumanth nagar', 'PRESTIGE FORUM REX',\n",
       "       'Palace Cross Road', 'R T Nagar', 'Race Course Road',\n",
       "       'Rajajinagar', 'Rajajinagar 2Nd Block', 'Residency Road',\n",
       "       'Richmond Road', 'Richmond Town', 'SG Palya', 'Sadashiv Nagar',\n",
       "       'Sampangirama Nagar', 'Santhi Nagar', 'Seshadripuram',\n",
       "       'Shanti Nagar', 'Shivaji Nagar', 'Shivaji Nagara', 'St Marks Road',\n",
       "       'Tavarekere', 'Ulsoor', 'Vasanth Nagar', 'ViJaya Nagar',\n",
       "       'Vittal Mallya Road', 'Whitefield', 'Wilson Garden'], dtype=object)"
      ]
     },
     "execution_count": 38,
     "metadata": {},
     "output_type": "execute_result"
    }
   ],
   "source": [
    "a = df1['Location'].sort_values().unique()\n",
    "a"
   ]
  },
  {
   "cell_type": "code",
   "execution_count": 39,
   "id": "6293f5d8",
   "metadata": {},
   "outputs": [
    {
     "name": "stdout",
     "output_type": "stream",
     "text": [
      "[ 0  1  2  3  4  5  6  7  8  9 10 11 12 13 14 15 16 17 18 19 20 21 22 23\n",
      " 24 25 26 27 28 29 30 31 32 33 34 35 36 37 38 39 40 41 42 43 44 45 46 47\n",
      " 48 49 50 51 52 53 54 55 56 57 58 59 60 61 62 63 64 65]\n"
     ]
    }
   ],
   "source": [
    "lb = LabelEncoder()\n",
    "b = lb.fit_transform(a)\n",
    "print(b)"
   ]
  },
  {
   "cell_type": "code",
   "execution_count": 40,
   "id": "11ea2016",
   "metadata": {
    "scrolled": true
   },
   "outputs": [
    {
     "data": {
      "text/plain": [
       "{'4th Block': 0,\n",
       " 'Adugodi': 1,\n",
       " 'Ashok Nagar': 2,\n",
       " 'Austin Town': 3,\n",
       " 'BTM Layout': 4,\n",
       " 'Banashankari': 5,\n",
       " 'Bannerghatta Main Road': 6,\n",
       " 'Basavanagudi': 7,\n",
       " 'Basaveshwar Nagar': 8,\n",
       " 'Brigade Road': 9,\n",
       " 'Bull Temple Road': 10,\n",
       " 'Central Bangalore': 11,\n",
       " 'Chamarajpet': 12,\n",
       " 'Chikpete': 13,\n",
       " 'Church Street': 14,\n",
       " 'Church street': 15,\n",
       " 'City Market': 16,\n",
       " 'Commercial Street': 17,\n",
       " 'Cunningham Road': 18,\n",
       " 'Dispensary Rd': 19,\n",
       " 'Domlur': 20,\n",
       " 'Ejipura': 21,\n",
       " 'FORUM REX WALK': 22,\n",
       " 'Frazer Town': 23,\n",
       " 'Gandhi Nagar': 24,\n",
       " 'Halasuru': 25,\n",
       " 'Indiranagar': 26,\n",
       " 'Jaya Nagar': 27,\n",
       " 'Koramangala': 28,\n",
       " 'Lakshmi Road': 29,\n",
       " 'Lavelle Road': 30,\n",
       " 'Lavelle road': 31,\n",
       " 'MG Road': 32,\n",
       " 'Magrath Road': 33,\n",
       " 'Majestic': 34,\n",
       " 'Malleshwaram': 35,\n",
       " 'Monarch Plaza': 36,\n",
       " 'Mount Joy Rd': 37,\n",
       " 'Mysore Road': 38,\n",
       " 'Opp to Sapna Book House, Gandhi Nagar': 39,\n",
       " 'PES college Hanumanth nagar': 40,\n",
       " 'PRESTIGE FORUM REX': 41,\n",
       " 'Palace Cross Road': 42,\n",
       " 'R T Nagar': 43,\n",
       " 'Race Course Road': 44,\n",
       " 'Rajajinagar': 45,\n",
       " 'Rajajinagar 2Nd Block': 46,\n",
       " 'Residency Road': 47,\n",
       " 'Richmond Road': 48,\n",
       " 'Richmond Town': 49,\n",
       " 'SG Palya': 50,\n",
       " 'Sadashiv Nagar': 51,\n",
       " 'Sampangirama Nagar': 52,\n",
       " 'Santhi Nagar': 53,\n",
       " 'Seshadripuram': 54,\n",
       " 'Shanti Nagar': 55,\n",
       " 'Shivaji Nagar': 56,\n",
       " 'Shivaji Nagara': 57,\n",
       " 'St Marks Road': 58,\n",
       " 'Tavarekere': 59,\n",
       " 'Ulsoor': 60,\n",
       " 'Vasanth Nagar': 61,\n",
       " 'ViJaya Nagar': 62,\n",
       " 'Vittal Mallya Road': 63,\n",
       " 'Whitefield': 64,\n",
       " 'Wilson Garden': 65}"
      ]
     },
     "execution_count": 40,
     "metadata": {},
     "output_type": "execute_result"
    }
   ],
   "source": [
    "c = dict(zip(a,b))\n",
    "c"
   ]
  },
  {
   "cell_type": "code",
   "execution_count": 41,
   "id": "9bb379c7",
   "metadata": {},
   "outputs": [
    {
     "data": {
      "text/html": [
       "<div>\n",
       "<style scoped>\n",
       "    .dataframe tbody tr th:only-of-type {\n",
       "        vertical-align: middle;\n",
       "    }\n",
       "\n",
       "    .dataframe tbody tr th {\n",
       "        vertical-align: top;\n",
       "    }\n",
       "\n",
       "    .dataframe thead th {\n",
       "        text-align: right;\n",
       "    }\n",
       "</style>\n",
       "<table border=\"1\" class=\"dataframe\">\n",
       "  <thead>\n",
       "    <tr style=\"text-align: right;\">\n",
       "      <th></th>\n",
       "      <th>Ratings</th>\n",
       "      <th>Price for one</th>\n",
       "      <th>Cuisine</th>\n",
       "      <th>Location</th>\n",
       "      <th>Delivery_review_no</th>\n",
       "    </tr>\n",
       "  </thead>\n",
       "  <tbody>\n",
       "    <tr>\n",
       "      <th>0</th>\n",
       "      <td>4.3</td>\n",
       "      <td>225.0</td>\n",
       "      <td>North Indian</td>\n",
       "      <td>Brigade Road</td>\n",
       "      <td>10000</td>\n",
       "    </tr>\n",
       "    <tr>\n",
       "      <th>1</th>\n",
       "      <td>4.1</td>\n",
       "      <td>200.0</td>\n",
       "      <td>Healthy Food</td>\n",
       "      <td>Basavanagudi</td>\n",
       "      <td>150</td>\n",
       "    </tr>\n",
       "    <tr>\n",
       "      <th>2</th>\n",
       "      <td>3.9</td>\n",
       "      <td>100.0</td>\n",
       "      <td>South Indian</td>\n",
       "      <td>Koramangala</td>\n",
       "      <td>1000</td>\n",
       "    </tr>\n",
       "    <tr>\n",
       "      <th>3</th>\n",
       "      <td>3.9</td>\n",
       "      <td>75.0</td>\n",
       "      <td>Desserts</td>\n",
       "      <td>Richmond Town</td>\n",
       "      <td>150</td>\n",
       "    </tr>\n",
       "    <tr>\n",
       "      <th>4</th>\n",
       "      <td>4.1</td>\n",
       "      <td>150.0</td>\n",
       "      <td>Seafood</td>\n",
       "      <td>Jaya Nagar</td>\n",
       "      <td>150</td>\n",
       "    </tr>\n",
       "  </tbody>\n",
       "</table>\n",
       "</div>"
      ],
      "text/plain": [
       "   Ratings  Price for one       Cuisine       Location  Delivery_review_no\n",
       "0      4.3          225.0  North Indian   Brigade Road               10000\n",
       "1      4.1          200.0  Healthy Food   Basavanagudi                 150\n",
       "2      3.9          100.0  South Indian    Koramangala                1000\n",
       "3      3.9           75.0      Desserts  Richmond Town                 150\n",
       "4      4.1          150.0       Seafood     Jaya Nagar                 150"
      ]
     },
     "execution_count": 41,
     "metadata": {},
     "output_type": "execute_result"
    }
   ],
   "source": [
    "df1.head()"
   ]
  },
  {
   "cell_type": "code",
   "execution_count": 42,
   "id": "7b3c6726",
   "metadata": {},
   "outputs": [],
   "source": [
    "lb = LabelEncoder()\n",
    "df1['Location']=lb.fit_transform(df1['Location'])"
   ]
  },
  {
   "cell_type": "code",
   "execution_count": 43,
   "id": "a1b1dbe1",
   "metadata": {},
   "outputs": [],
   "source": [
    "df1= pd.get_dummies(df1, columns=['Cuisine'])"
   ]
  },
  {
   "cell_type": "code",
   "execution_count": 44,
   "id": "458756c9",
   "metadata": {},
   "outputs": [
    {
     "data": {
      "text/html": [
       "<div>\n",
       "<style scoped>\n",
       "    .dataframe tbody tr th:only-of-type {\n",
       "        vertical-align: middle;\n",
       "    }\n",
       "\n",
       "    .dataframe tbody tr th {\n",
       "        vertical-align: top;\n",
       "    }\n",
       "\n",
       "    .dataframe thead th {\n",
       "        text-align: right;\n",
       "    }\n",
       "</style>\n",
       "<table border=\"1\" class=\"dataframe\">\n",
       "  <thead>\n",
       "    <tr style=\"text-align: right;\">\n",
       "      <th></th>\n",
       "      <th>Ratings</th>\n",
       "      <th>Price for one</th>\n",
       "      <th>Location</th>\n",
       "      <th>Delivery_review_no</th>\n",
       "      <th>Cuisine_American</th>\n",
       "      <th>Cuisine_Andhra</th>\n",
       "      <th>Cuisine_Arabian</th>\n",
       "      <th>Cuisine_Asian</th>\n",
       "      <th>Cuisine_Bakery</th>\n",
       "      <th>Cuisine_Barbecue</th>\n",
       "      <th>...</th>\n",
       "      <th>Cuisine_Snacks</th>\n",
       "      <th>Cuisine_South Indian</th>\n",
       "      <th>Cuisine_Street Food</th>\n",
       "      <th>Cuisine_Sweets</th>\n",
       "      <th>Cuisine_Tandoor</th>\n",
       "      <th>Cuisine_Tex-Mex</th>\n",
       "      <th>Cuisine_Thai</th>\n",
       "      <th>Cuisine_Thalis</th>\n",
       "      <th>Cuisine_Tibetan</th>\n",
       "      <th>Cuisine_Waffle</th>\n",
       "    </tr>\n",
       "  </thead>\n",
       "  <tbody>\n",
       "    <tr>\n",
       "      <th>0</th>\n",
       "      <td>4.3</td>\n",
       "      <td>225.0</td>\n",
       "      <td>9</td>\n",
       "      <td>10000</td>\n",
       "      <td>0</td>\n",
       "      <td>0</td>\n",
       "      <td>0</td>\n",
       "      <td>0</td>\n",
       "      <td>0</td>\n",
       "      <td>0</td>\n",
       "      <td>...</td>\n",
       "      <td>0</td>\n",
       "      <td>0</td>\n",
       "      <td>0</td>\n",
       "      <td>0</td>\n",
       "      <td>0</td>\n",
       "      <td>0</td>\n",
       "      <td>0</td>\n",
       "      <td>0</td>\n",
       "      <td>0</td>\n",
       "      <td>0</td>\n",
       "    </tr>\n",
       "    <tr>\n",
       "      <th>1</th>\n",
       "      <td>4.1</td>\n",
       "      <td>200.0</td>\n",
       "      <td>7</td>\n",
       "      <td>150</td>\n",
       "      <td>0</td>\n",
       "      <td>0</td>\n",
       "      <td>0</td>\n",
       "      <td>0</td>\n",
       "      <td>0</td>\n",
       "      <td>0</td>\n",
       "      <td>...</td>\n",
       "      <td>0</td>\n",
       "      <td>0</td>\n",
       "      <td>0</td>\n",
       "      <td>0</td>\n",
       "      <td>0</td>\n",
       "      <td>0</td>\n",
       "      <td>0</td>\n",
       "      <td>0</td>\n",
       "      <td>0</td>\n",
       "      <td>0</td>\n",
       "    </tr>\n",
       "    <tr>\n",
       "      <th>2</th>\n",
       "      <td>3.9</td>\n",
       "      <td>100.0</td>\n",
       "      <td>28</td>\n",
       "      <td>1000</td>\n",
       "      <td>0</td>\n",
       "      <td>0</td>\n",
       "      <td>0</td>\n",
       "      <td>0</td>\n",
       "      <td>0</td>\n",
       "      <td>0</td>\n",
       "      <td>...</td>\n",
       "      <td>0</td>\n",
       "      <td>1</td>\n",
       "      <td>0</td>\n",
       "      <td>0</td>\n",
       "      <td>0</td>\n",
       "      <td>0</td>\n",
       "      <td>0</td>\n",
       "      <td>0</td>\n",
       "      <td>0</td>\n",
       "      <td>0</td>\n",
       "    </tr>\n",
       "    <tr>\n",
       "      <th>3</th>\n",
       "      <td>3.9</td>\n",
       "      <td>75.0</td>\n",
       "      <td>49</td>\n",
       "      <td>150</td>\n",
       "      <td>0</td>\n",
       "      <td>0</td>\n",
       "      <td>0</td>\n",
       "      <td>0</td>\n",
       "      <td>0</td>\n",
       "      <td>0</td>\n",
       "      <td>...</td>\n",
       "      <td>0</td>\n",
       "      <td>0</td>\n",
       "      <td>0</td>\n",
       "      <td>0</td>\n",
       "      <td>0</td>\n",
       "      <td>0</td>\n",
       "      <td>0</td>\n",
       "      <td>0</td>\n",
       "      <td>0</td>\n",
       "      <td>0</td>\n",
       "    </tr>\n",
       "    <tr>\n",
       "      <th>4</th>\n",
       "      <td>4.1</td>\n",
       "      <td>150.0</td>\n",
       "      <td>27</td>\n",
       "      <td>150</td>\n",
       "      <td>0</td>\n",
       "      <td>0</td>\n",
       "      <td>0</td>\n",
       "      <td>0</td>\n",
       "      <td>0</td>\n",
       "      <td>0</td>\n",
       "      <td>...</td>\n",
       "      <td>0</td>\n",
       "      <td>0</td>\n",
       "      <td>0</td>\n",
       "      <td>0</td>\n",
       "      <td>0</td>\n",
       "      <td>0</td>\n",
       "      <td>0</td>\n",
       "      <td>0</td>\n",
       "      <td>0</td>\n",
       "      <td>0</td>\n",
       "    </tr>\n",
       "  </tbody>\n",
       "</table>\n",
       "<p>5 rows × 67 columns</p>\n",
       "</div>"
      ],
      "text/plain": [
       "   Ratings  Price for one  Location  Delivery_review_no  Cuisine_American  \\\n",
       "0      4.3          225.0         9               10000                 0   \n",
       "1      4.1          200.0         7                 150                 0   \n",
       "2      3.9          100.0        28                1000                 0   \n",
       "3      3.9           75.0        49                 150                 0   \n",
       "4      4.1          150.0        27                 150                 0   \n",
       "\n",
       "   Cuisine_Andhra  Cuisine_Arabian  Cuisine_Asian  Cuisine_Bakery  \\\n",
       "0               0                0              0               0   \n",
       "1               0                0              0               0   \n",
       "2               0                0              0               0   \n",
       "3               0                0              0               0   \n",
       "4               0                0              0               0   \n",
       "\n",
       "   Cuisine_Barbecue  ...  Cuisine_Snacks  Cuisine_South Indian  \\\n",
       "0                 0  ...               0                     0   \n",
       "1                 0  ...               0                     0   \n",
       "2                 0  ...               0                     1   \n",
       "3                 0  ...               0                     0   \n",
       "4                 0  ...               0                     0   \n",
       "\n",
       "   Cuisine_Street Food  Cuisine_Sweets  Cuisine_Tandoor  Cuisine_Tex-Mex  \\\n",
       "0                    0               0                0                0   \n",
       "1                    0               0                0                0   \n",
       "2                    0               0                0                0   \n",
       "3                    0               0                0                0   \n",
       "4                    0               0                0                0   \n",
       "\n",
       "   Cuisine_Thai  Cuisine_Thalis  Cuisine_Tibetan  Cuisine_Waffle  \n",
       "0             0               0                0               0  \n",
       "1             0               0                0               0  \n",
       "2             0               0                0               0  \n",
       "3             0               0                0               0  \n",
       "4             0               0                0               0  \n",
       "\n",
       "[5 rows x 67 columns]"
      ]
     },
     "execution_count": 44,
     "metadata": {},
     "output_type": "execute_result"
    }
   ],
   "source": [
    "df1.head()"
   ]
  },
  {
   "cell_type": "code",
   "execution_count": 45,
   "id": "75bb983c",
   "metadata": {},
   "outputs": [],
   "source": [
    "x = df1.drop(['Location'],axis=1)\n",
    "y = df1['Location']"
   ]
  },
  {
   "cell_type": "code",
   "execution_count": 46,
   "id": "3c38b973",
   "metadata": {},
   "outputs": [
    {
     "data": {
      "text/plain": [
       "array([ 9,  7, 28, 49, 27, 23, 45, 41, 18, 55,  2, 35, 48, 26, 60, 56, 20,\n",
       "        4, 32,  1, 54, 33, 43, 34, 61,  3, 59, 47, 58,  6, 17, 25, 65, 44,\n",
       "       62, 52, 21, 53, 11, 14, 51, 12, 30, 19, 16,  5, 63, 38, 64, 46,  8,\n",
       "       40, 31, 10, 22, 13, 42, 15, 50, 36, 37, 29, 24,  0, 39, 57])"
      ]
     },
     "execution_count": 46,
     "metadata": {},
     "output_type": "execute_result"
    }
   ],
   "source": [
    "y.unique()"
   ]
  },
  {
   "cell_type": "code",
   "execution_count": 47,
   "id": "17dc015f",
   "metadata": {},
   "outputs": [],
   "source": [
    "x_train, x_test, y_train, y_test = train_test_split(x, y, test_size=0.2, random_state=41)"
   ]
  },
  {
   "cell_type": "code",
   "execution_count": 48,
   "id": "4e14bff5",
   "metadata": {},
   "outputs": [
    {
     "name": "stderr",
     "output_type": "stream",
     "text": [
      "C:\\ProgramData\\Anaconda3\\lib\\site-packages\\sklearn\\linear_model\\_logistic.py:814: ConvergenceWarning: lbfgs failed to converge (status=1):\n",
      "STOP: TOTAL NO. of ITERATIONS REACHED LIMIT.\n",
      "\n",
      "Increase the number of iterations (max_iter) or scale the data as shown in:\n",
      "    https://scikit-learn.org/stable/modules/preprocessing.html\n",
      "Please also refer to the documentation for alternative solver options:\n",
      "    https://scikit-learn.org/stable/modules/linear_model.html#logistic-regression\n",
      "  n_iter_i = _check_optimize_result(\n"
     ]
    }
   ],
   "source": [
    "lg = LogisticRegression(random_state=31,multi_class='multinomial', solver='lbfgs')\n",
    "lg.fit(x_train, y_train)\n",
    "lg_pred = lg.predict(x_test)"
   ]
  },
  {
   "cell_type": "code",
   "execution_count": 49,
   "id": "f65c2e89",
   "metadata": {},
   "outputs": [
    {
     "data": {
      "text/plain": [
       "0.12773722627737227"
      ]
     },
     "execution_count": 49,
     "metadata": {},
     "output_type": "execute_result"
    }
   ],
   "source": [
    "metrics.accuracy_score(y_test, lg_pred)"
   ]
  },
  {
   "cell_type": "code",
   "execution_count": null,
   "id": "d3280ab5",
   "metadata": {},
   "outputs": [],
   "source": []
  },
  {
   "cell_type": "code",
   "execution_count": 50,
   "id": "0e637244",
   "metadata": {},
   "outputs": [
    {
     "data": {
      "text/plain": [
       "0.2116788321167883"
      ]
     },
     "execution_count": 50,
     "metadata": {},
     "output_type": "execute_result"
    }
   ],
   "source": [
    "dt = DecisionTreeClassifier()\n",
    "dt.fit(x_train, y_train)\n",
    "dt_pred = dt.predict(x_test)\n",
    "\n",
    "metrics.accuracy_score(y_test, dt_pred)"
   ]
  },
  {
   "cell_type": "code",
   "execution_count": null,
   "id": "fd6df425",
   "metadata": {},
   "outputs": [],
   "source": []
  },
  {
   "cell_type": "code",
   "execution_count": 51,
   "id": "edb25e01",
   "metadata": {},
   "outputs": [
    {
     "data": {
      "text/plain": [
       "0.2116788321167883"
      ]
     },
     "execution_count": 51,
     "metadata": {},
     "output_type": "execute_result"
    }
   ],
   "source": [
    "rf = RandomForestClassifier()\n",
    "rf.fit(x_train, y_train)\n",
    "rf_pred = rf.predict(x_test)\n",
    "\n",
    "metrics.accuracy_score(y_test, rf_pred)"
   ]
  },
  {
   "cell_type": "code",
   "execution_count": 147,
   "id": "9ae8e1ad",
   "metadata": {},
   "outputs": [],
   "source": [
    "# rf = RandomForestClassifier()\n",
    "# rf.fit(x_train, y_train)\n",
    "# pickle.dump(rf, open('Location_pred.pkl', 'wb'))"
   ]
  },
  {
   "cell_type": "code",
   "execution_count": 148,
   "id": "35d56438",
   "metadata": {},
   "outputs": [
    {
     "data": {
      "text/html": [
       "<style>#sk-container-id-6 {color: black;background-color: white;}#sk-container-id-6 pre{padding: 0;}#sk-container-id-6 div.sk-toggleable {background-color: white;}#sk-container-id-6 label.sk-toggleable__label {cursor: pointer;display: block;width: 100%;margin-bottom: 0;padding: 0.3em;box-sizing: border-box;text-align: center;}#sk-container-id-6 label.sk-toggleable__label-arrow:before {content: \"▸\";float: left;margin-right: 0.25em;color: #696969;}#sk-container-id-6 label.sk-toggleable__label-arrow:hover:before {color: black;}#sk-container-id-6 div.sk-estimator:hover label.sk-toggleable__label-arrow:before {color: black;}#sk-container-id-6 div.sk-toggleable__content {max-height: 0;max-width: 0;overflow: hidden;text-align: left;background-color: #f0f8ff;}#sk-container-id-6 div.sk-toggleable__content pre {margin: 0.2em;color: black;border-radius: 0.25em;background-color: #f0f8ff;}#sk-container-id-6 input.sk-toggleable__control:checked~div.sk-toggleable__content {max-height: 200px;max-width: 100%;overflow: auto;}#sk-container-id-6 input.sk-toggleable__control:checked~label.sk-toggleable__label-arrow:before {content: \"▾\";}#sk-container-id-6 div.sk-estimator input.sk-toggleable__control:checked~label.sk-toggleable__label {background-color: #d4ebff;}#sk-container-id-6 div.sk-label input.sk-toggleable__control:checked~label.sk-toggleable__label {background-color: #d4ebff;}#sk-container-id-6 input.sk-hidden--visually {border: 0;clip: rect(1px 1px 1px 1px);clip: rect(1px, 1px, 1px, 1px);height: 1px;margin: -1px;overflow: hidden;padding: 0;position: absolute;width: 1px;}#sk-container-id-6 div.sk-estimator {font-family: monospace;background-color: #f0f8ff;border: 1px dotted black;border-radius: 0.25em;box-sizing: border-box;margin-bottom: 0.5em;}#sk-container-id-6 div.sk-estimator:hover {background-color: #d4ebff;}#sk-container-id-6 div.sk-parallel-item::after {content: \"\";width: 100%;border-bottom: 1px solid gray;flex-grow: 1;}#sk-container-id-6 div.sk-label:hover label.sk-toggleable__label {background-color: #d4ebff;}#sk-container-id-6 div.sk-serial::before {content: \"\";position: absolute;border-left: 1px solid gray;box-sizing: border-box;top: 0;bottom: 0;left: 50%;z-index: 0;}#sk-container-id-6 div.sk-serial {display: flex;flex-direction: column;align-items: center;background-color: white;padding-right: 0.2em;padding-left: 0.2em;position: relative;}#sk-container-id-6 div.sk-item {position: relative;z-index: 1;}#sk-container-id-6 div.sk-parallel {display: flex;align-items: stretch;justify-content: center;background-color: white;position: relative;}#sk-container-id-6 div.sk-item::before, #sk-container-id-6 div.sk-parallel-item::before {content: \"\";position: absolute;border-left: 1px solid gray;box-sizing: border-box;top: 0;bottom: 0;left: 50%;z-index: -1;}#sk-container-id-6 div.sk-parallel-item {display: flex;flex-direction: column;z-index: 1;position: relative;background-color: white;}#sk-container-id-6 div.sk-parallel-item:first-child::after {align-self: flex-end;width: 50%;}#sk-container-id-6 div.sk-parallel-item:last-child::after {align-self: flex-start;width: 50%;}#sk-container-id-6 div.sk-parallel-item:only-child::after {width: 0;}#sk-container-id-6 div.sk-dashed-wrapped {border: 1px dashed gray;margin: 0 0.4em 0.5em 0.4em;box-sizing: border-box;padding-bottom: 0.4em;background-color: white;}#sk-container-id-6 div.sk-label label {font-family: monospace;font-weight: bold;display: inline-block;line-height: 1.2em;}#sk-container-id-6 div.sk-label-container {text-align: center;}#sk-container-id-6 div.sk-container {/* jupyter's `normalize.less` sets `[hidden] { display: none; }` but bootstrap.min.css set `[hidden] { display: none !important; }` so we also need the `!important` here to be able to override the default hidden behavior on the sphinx rendered scikit-learn.org. See: https://github.com/scikit-learn/scikit-learn/issues/21755 */display: inline-block !important;position: relative;}#sk-container-id-6 div.sk-text-repr-fallback {display: none;}</style><div id=\"sk-container-id-6\" class=\"sk-top-container\"><div class=\"sk-text-repr-fallback\"><pre>RandomForestClassifier()</pre><b>In a Jupyter environment, please rerun this cell to show the HTML representation or trust the notebook. <br />On GitHub, the HTML representation is unable to render, please try loading this page with nbviewer.org.</b></div><div class=\"sk-container\" hidden><div class=\"sk-item\"><div class=\"sk-estimator sk-toggleable\"><input class=\"sk-toggleable__control sk-hidden--visually\" id=\"sk-estimator-id-6\" type=\"checkbox\" checked><label for=\"sk-estimator-id-6\" class=\"sk-toggleable__label sk-toggleable__label-arrow\">RandomForestClassifier</label><div class=\"sk-toggleable__content\"><pre>RandomForestClassifier()</pre></div></div></div></div></div>"
      ],
      "text/plain": [
       "RandomForestClassifier()"
      ]
     },
     "execution_count": 148,
     "metadata": {},
     "output_type": "execute_result"
    }
   ],
   "source": [
    "# loc = pickle.load(open('Location_pred.pkl','rb'))\n",
    "# loc"
   ]
  },
  {
   "cell_type": "code",
   "execution_count": null,
   "id": "3ed5f7a4",
   "metadata": {},
   "outputs": [],
   "source": []
  },
  {
   "cell_type": "code",
   "execution_count": null,
   "id": "17fc0c50",
   "metadata": {},
   "outputs": [],
   "source": []
  },
  {
   "cell_type": "code",
   "execution_count": 52,
   "id": "b25ad728",
   "metadata": {},
   "outputs": [],
   "source": [
    "# Cuisine prediction\n"
   ]
  },
  {
   "cell_type": "code",
   "execution_count": 53,
   "id": "9109eaf6",
   "metadata": {},
   "outputs": [
    {
     "data": {
      "text/html": [
       "<div>\n",
       "<style scoped>\n",
       "    .dataframe tbody tr th:only-of-type {\n",
       "        vertical-align: middle;\n",
       "    }\n",
       "\n",
       "    .dataframe tbody tr th {\n",
       "        vertical-align: top;\n",
       "    }\n",
       "\n",
       "    .dataframe thead th {\n",
       "        text-align: right;\n",
       "    }\n",
       "</style>\n",
       "<table border=\"1\" class=\"dataframe\">\n",
       "  <thead>\n",
       "    <tr style=\"text-align: right;\">\n",
       "      <th></th>\n",
       "      <th>Ratings</th>\n",
       "      <th>Price for one</th>\n",
       "      <th>Cuisine</th>\n",
       "      <th>Location</th>\n",
       "      <th>Delivery_review_no</th>\n",
       "    </tr>\n",
       "  </thead>\n",
       "  <tbody>\n",
       "    <tr>\n",
       "      <th>0</th>\n",
       "      <td>4.3</td>\n",
       "      <td>225.0</td>\n",
       "      <td>North Indian</td>\n",
       "      <td>Brigade Road</td>\n",
       "      <td>10000</td>\n",
       "    </tr>\n",
       "    <tr>\n",
       "      <th>1</th>\n",
       "      <td>4.1</td>\n",
       "      <td>200.0</td>\n",
       "      <td>Healthy Food</td>\n",
       "      <td>Basavanagudi</td>\n",
       "      <td>150</td>\n",
       "    </tr>\n",
       "    <tr>\n",
       "      <th>2</th>\n",
       "      <td>3.9</td>\n",
       "      <td>100.0</td>\n",
       "      <td>South Indian</td>\n",
       "      <td>Koramangala</td>\n",
       "      <td>1000</td>\n",
       "    </tr>\n",
       "    <tr>\n",
       "      <th>3</th>\n",
       "      <td>3.9</td>\n",
       "      <td>75.0</td>\n",
       "      <td>Desserts</td>\n",
       "      <td>Richmond Town</td>\n",
       "      <td>150</td>\n",
       "    </tr>\n",
       "    <tr>\n",
       "      <th>4</th>\n",
       "      <td>4.1</td>\n",
       "      <td>150.0</td>\n",
       "      <td>Seafood</td>\n",
       "      <td>Jaya Nagar</td>\n",
       "      <td>150</td>\n",
       "    </tr>\n",
       "  </tbody>\n",
       "</table>\n",
       "</div>"
      ],
      "text/plain": [
       "   Ratings  Price for one       Cuisine       Location  Delivery_review_no\n",
       "0      4.3          225.0  North Indian   Brigade Road               10000\n",
       "1      4.1          200.0  Healthy Food   Basavanagudi                 150\n",
       "2      3.9          100.0  South Indian    Koramangala                1000\n",
       "3      3.9           75.0      Desserts  Richmond Town                 150\n",
       "4      4.1          150.0       Seafood     Jaya Nagar                 150"
      ]
     },
     "execution_count": 53,
     "metadata": {},
     "output_type": "execute_result"
    }
   ],
   "source": [
    "df.head()"
   ]
  },
  {
   "cell_type": "code",
   "execution_count": 54,
   "id": "ea76ba67",
   "metadata": {},
   "outputs": [],
   "source": [
    "df2 = df.copy()"
   ]
  },
  {
   "cell_type": "code",
   "execution_count": 55,
   "id": "ef032d8f",
   "metadata": {},
   "outputs": [
    {
     "data": {
      "text/html": [
       "<div>\n",
       "<style scoped>\n",
       "    .dataframe tbody tr th:only-of-type {\n",
       "        vertical-align: middle;\n",
       "    }\n",
       "\n",
       "    .dataframe tbody tr th {\n",
       "        vertical-align: top;\n",
       "    }\n",
       "\n",
       "    .dataframe thead th {\n",
       "        text-align: right;\n",
       "    }\n",
       "</style>\n",
       "<table border=\"1\" class=\"dataframe\">\n",
       "  <thead>\n",
       "    <tr style=\"text-align: right;\">\n",
       "      <th></th>\n",
       "      <th>Ratings</th>\n",
       "      <th>Price for one</th>\n",
       "      <th>Cuisine</th>\n",
       "      <th>Location</th>\n",
       "      <th>Delivery_review_no</th>\n",
       "    </tr>\n",
       "  </thead>\n",
       "  <tbody>\n",
       "    <tr>\n",
       "      <th>0</th>\n",
       "      <td>4.3</td>\n",
       "      <td>225.0</td>\n",
       "      <td>9</td>\n",
       "      <td>Brigade Road</td>\n",
       "      <td>10000</td>\n",
       "    </tr>\n",
       "    <tr>\n",
       "      <th>1</th>\n",
       "      <td>4.1</td>\n",
       "      <td>200.0</td>\n",
       "      <td>7</td>\n",
       "      <td>Basavanagudi</td>\n",
       "      <td>150</td>\n",
       "    </tr>\n",
       "    <tr>\n",
       "      <th>2</th>\n",
       "      <td>3.9</td>\n",
       "      <td>100.0</td>\n",
       "      <td>28</td>\n",
       "      <td>Koramangala</td>\n",
       "      <td>1000</td>\n",
       "    </tr>\n",
       "    <tr>\n",
       "      <th>3</th>\n",
       "      <td>3.9</td>\n",
       "      <td>75.0</td>\n",
       "      <td>49</td>\n",
       "      <td>Richmond Town</td>\n",
       "      <td>150</td>\n",
       "    </tr>\n",
       "    <tr>\n",
       "      <th>4</th>\n",
       "      <td>4.1</td>\n",
       "      <td>150.0</td>\n",
       "      <td>27</td>\n",
       "      <td>Jaya Nagar</td>\n",
       "      <td>150</td>\n",
       "    </tr>\n",
       "  </tbody>\n",
       "</table>\n",
       "</div>"
      ],
      "text/plain": [
       "   Ratings  Price for one  Cuisine       Location  Delivery_review_no\n",
       "0      4.3          225.0        9   Brigade Road               10000\n",
       "1      4.1          200.0        7   Basavanagudi                 150\n",
       "2      3.9          100.0       28    Koramangala                1000\n",
       "3      3.9           75.0       49  Richmond Town                 150\n",
       "4      4.1          150.0       27     Jaya Nagar                 150"
      ]
     },
     "execution_count": 55,
     "metadata": {},
     "output_type": "execute_result"
    }
   ],
   "source": [
    "df2['Cuisine']=lb.fit_transform(df2['Location'])\n",
    "df2.head()"
   ]
  },
  {
   "cell_type": "code",
   "execution_count": 56,
   "id": "49a00987",
   "metadata": {},
   "outputs": [
    {
     "data": {
      "text/html": [
       "<div>\n",
       "<style scoped>\n",
       "    .dataframe tbody tr th:only-of-type {\n",
       "        vertical-align: middle;\n",
       "    }\n",
       "\n",
       "    .dataframe tbody tr th {\n",
       "        vertical-align: top;\n",
       "    }\n",
       "\n",
       "    .dataframe thead th {\n",
       "        text-align: right;\n",
       "    }\n",
       "</style>\n",
       "<table border=\"1\" class=\"dataframe\">\n",
       "  <thead>\n",
       "    <tr style=\"text-align: right;\">\n",
       "      <th></th>\n",
       "      <th>Ratings</th>\n",
       "      <th>Price for one</th>\n",
       "      <th>Cuisine</th>\n",
       "      <th>Delivery_review_no</th>\n",
       "      <th>Location_4th Block</th>\n",
       "      <th>Location_Adugodi</th>\n",
       "      <th>Location_Ashok Nagar</th>\n",
       "      <th>Location_Austin Town</th>\n",
       "      <th>Location_BTM Layout</th>\n",
       "      <th>Location_Banashankari</th>\n",
       "      <th>...</th>\n",
       "      <th>Location_Shivaji Nagar</th>\n",
       "      <th>Location_Shivaji Nagara</th>\n",
       "      <th>Location_St Marks Road</th>\n",
       "      <th>Location_Tavarekere</th>\n",
       "      <th>Location_Ulsoor</th>\n",
       "      <th>Location_Vasanth Nagar</th>\n",
       "      <th>Location_ViJaya Nagar</th>\n",
       "      <th>Location_Vittal Mallya Road</th>\n",
       "      <th>Location_Whitefield</th>\n",
       "      <th>Location_Wilson Garden</th>\n",
       "    </tr>\n",
       "  </thead>\n",
       "  <tbody>\n",
       "    <tr>\n",
       "      <th>0</th>\n",
       "      <td>4.3</td>\n",
       "      <td>225.0</td>\n",
       "      <td>9</td>\n",
       "      <td>10000</td>\n",
       "      <td>0</td>\n",
       "      <td>0</td>\n",
       "      <td>0</td>\n",
       "      <td>0</td>\n",
       "      <td>0</td>\n",
       "      <td>0</td>\n",
       "      <td>...</td>\n",
       "      <td>0</td>\n",
       "      <td>0</td>\n",
       "      <td>0</td>\n",
       "      <td>0</td>\n",
       "      <td>0</td>\n",
       "      <td>0</td>\n",
       "      <td>0</td>\n",
       "      <td>0</td>\n",
       "      <td>0</td>\n",
       "      <td>0</td>\n",
       "    </tr>\n",
       "    <tr>\n",
       "      <th>1</th>\n",
       "      <td>4.1</td>\n",
       "      <td>200.0</td>\n",
       "      <td>7</td>\n",
       "      <td>150</td>\n",
       "      <td>0</td>\n",
       "      <td>0</td>\n",
       "      <td>0</td>\n",
       "      <td>0</td>\n",
       "      <td>0</td>\n",
       "      <td>0</td>\n",
       "      <td>...</td>\n",
       "      <td>0</td>\n",
       "      <td>0</td>\n",
       "      <td>0</td>\n",
       "      <td>0</td>\n",
       "      <td>0</td>\n",
       "      <td>0</td>\n",
       "      <td>0</td>\n",
       "      <td>0</td>\n",
       "      <td>0</td>\n",
       "      <td>0</td>\n",
       "    </tr>\n",
       "    <tr>\n",
       "      <th>2</th>\n",
       "      <td>3.9</td>\n",
       "      <td>100.0</td>\n",
       "      <td>28</td>\n",
       "      <td>1000</td>\n",
       "      <td>0</td>\n",
       "      <td>0</td>\n",
       "      <td>0</td>\n",
       "      <td>0</td>\n",
       "      <td>0</td>\n",
       "      <td>0</td>\n",
       "      <td>...</td>\n",
       "      <td>0</td>\n",
       "      <td>0</td>\n",
       "      <td>0</td>\n",
       "      <td>0</td>\n",
       "      <td>0</td>\n",
       "      <td>0</td>\n",
       "      <td>0</td>\n",
       "      <td>0</td>\n",
       "      <td>0</td>\n",
       "      <td>0</td>\n",
       "    </tr>\n",
       "    <tr>\n",
       "      <th>3</th>\n",
       "      <td>3.9</td>\n",
       "      <td>75.0</td>\n",
       "      <td>49</td>\n",
       "      <td>150</td>\n",
       "      <td>0</td>\n",
       "      <td>0</td>\n",
       "      <td>0</td>\n",
       "      <td>0</td>\n",
       "      <td>0</td>\n",
       "      <td>0</td>\n",
       "      <td>...</td>\n",
       "      <td>0</td>\n",
       "      <td>0</td>\n",
       "      <td>0</td>\n",
       "      <td>0</td>\n",
       "      <td>0</td>\n",
       "      <td>0</td>\n",
       "      <td>0</td>\n",
       "      <td>0</td>\n",
       "      <td>0</td>\n",
       "      <td>0</td>\n",
       "    </tr>\n",
       "    <tr>\n",
       "      <th>4</th>\n",
       "      <td>4.1</td>\n",
       "      <td>150.0</td>\n",
       "      <td>27</td>\n",
       "      <td>150</td>\n",
       "      <td>0</td>\n",
       "      <td>0</td>\n",
       "      <td>0</td>\n",
       "      <td>0</td>\n",
       "      <td>0</td>\n",
       "      <td>0</td>\n",
       "      <td>...</td>\n",
       "      <td>0</td>\n",
       "      <td>0</td>\n",
       "      <td>0</td>\n",
       "      <td>0</td>\n",
       "      <td>0</td>\n",
       "      <td>0</td>\n",
       "      <td>0</td>\n",
       "      <td>0</td>\n",
       "      <td>0</td>\n",
       "      <td>0</td>\n",
       "    </tr>\n",
       "  </tbody>\n",
       "</table>\n",
       "<p>5 rows × 70 columns</p>\n",
       "</div>"
      ],
      "text/plain": [
       "   Ratings  Price for one  Cuisine  Delivery_review_no  Location_4th Block  \\\n",
       "0      4.3          225.0        9               10000                   0   \n",
       "1      4.1          200.0        7                 150                   0   \n",
       "2      3.9          100.0       28                1000                   0   \n",
       "3      3.9           75.0       49                 150                   0   \n",
       "4      4.1          150.0       27                 150                   0   \n",
       "\n",
       "   Location_Adugodi  Location_Ashok Nagar  Location_Austin Town  \\\n",
       "0                 0                     0                     0   \n",
       "1                 0                     0                     0   \n",
       "2                 0                     0                     0   \n",
       "3                 0                     0                     0   \n",
       "4                 0                     0                     0   \n",
       "\n",
       "   Location_BTM Layout  Location_Banashankari  ...  Location_Shivaji Nagar  \\\n",
       "0                    0                      0  ...                       0   \n",
       "1                    0                      0  ...                       0   \n",
       "2                    0                      0  ...                       0   \n",
       "3                    0                      0  ...                       0   \n",
       "4                    0                      0  ...                       0   \n",
       "\n",
       "   Location_Shivaji Nagara  Location_St Marks Road  Location_Tavarekere  \\\n",
       "0                        0                       0                    0   \n",
       "1                        0                       0                    0   \n",
       "2                        0                       0                    0   \n",
       "3                        0                       0                    0   \n",
       "4                        0                       0                    0   \n",
       "\n",
       "   Location_Ulsoor  Location_Vasanth Nagar  Location_ViJaya Nagar  \\\n",
       "0                0                       0                      0   \n",
       "1                0                       0                      0   \n",
       "2                0                       0                      0   \n",
       "3                0                       0                      0   \n",
       "4                0                       0                      0   \n",
       "\n",
       "   Location_Vittal Mallya Road  Location_Whitefield  Location_Wilson Garden  \n",
       "0                            0                    0                       0  \n",
       "1                            0                    0                       0  \n",
       "2                            0                    0                       0  \n",
       "3                            0                    0                       0  \n",
       "4                            0                    0                       0  \n",
       "\n",
       "[5 rows x 70 columns]"
      ]
     },
     "execution_count": 56,
     "metadata": {},
     "output_type": "execute_result"
    }
   ],
   "source": [
    "df2= pd.get_dummies(df2, columns=['Location'])\n",
    "df2.head()"
   ]
  },
  {
   "cell_type": "code",
   "execution_count": 57,
   "id": "ddb706fc",
   "metadata": {},
   "outputs": [],
   "source": [
    "x = df2.drop('Cuisine',axis=1)\n",
    "y = df2['Cuisine']"
   ]
  },
  {
   "cell_type": "code",
   "execution_count": 58,
   "id": "c9890cca",
   "metadata": {},
   "outputs": [],
   "source": [
    "x_train, x_test, y_train, y_test = train_test_split(x,y, test_size=0.2, random_state= 99)"
   ]
  },
  {
   "cell_type": "code",
   "execution_count": 59,
   "id": "dbb4103f",
   "metadata": {},
   "outputs": [
    {
     "name": "stderr",
     "output_type": "stream",
     "text": [
      "C:\\ProgramData\\Anaconda3\\lib\\site-packages\\sklearn\\linear_model\\_logistic.py:814: ConvergenceWarning: lbfgs failed to converge (status=1):\n",
      "STOP: TOTAL NO. of ITERATIONS REACHED LIMIT.\n",
      "\n",
      "Increase the number of iterations (max_iter) or scale the data as shown in:\n",
      "    https://scikit-learn.org/stable/modules/preprocessing.html\n",
      "Please also refer to the documentation for alternative solver options:\n",
      "    https://scikit-learn.org/stable/modules/linear_model.html#logistic-regression\n",
      "  n_iter_i = _check_optimize_result(\n"
     ]
    },
    {
     "data": {
      "text/plain": [
       "LogisticRegression()"
      ]
     },
     "execution_count": 59,
     "metadata": {},
     "output_type": "execute_result"
    }
   ],
   "source": [
    "lgc = LogisticRegression()\n",
    "lgc.fit(x_train, y_train)"
   ]
  },
  {
   "cell_type": "code",
   "execution_count": 60,
   "id": "4eb4d494",
   "metadata": {},
   "outputs": [],
   "source": [
    "lgc_pred = lgc.predict(x_test)"
   ]
  },
  {
   "cell_type": "code",
   "execution_count": 61,
   "id": "d851b7ae",
   "metadata": {},
   "outputs": [
    {
     "data": {
      "text/plain": [
       "0.1386861313868613"
      ]
     },
     "execution_count": 61,
     "metadata": {},
     "output_type": "execute_result"
    }
   ],
   "source": [
    "metrics.accuracy_score(y_test, lgc_pred)"
   ]
  },
  {
   "cell_type": "code",
   "execution_count": null,
   "id": "2e226972",
   "metadata": {},
   "outputs": [],
   "source": []
  },
  {
   "cell_type": "code",
   "execution_count": 62,
   "id": "0843137c",
   "metadata": {},
   "outputs": [
    {
     "data": {
      "text/plain": [
       "0.9817518248175182"
      ]
     },
     "execution_count": 62,
     "metadata": {},
     "output_type": "execute_result"
    }
   ],
   "source": [
    "dtc = DecisionTreeClassifier()\n",
    "dtc.fit(x_train, y_train)\n",
    "dtc_pred = dtc.predict(x_test)\n",
    "\n",
    "metrics.accuracy_score(y_test, dtc_pred)"
   ]
  },
  {
   "cell_type": "code",
   "execution_count": null,
   "id": "d3bedf0a",
   "metadata": {},
   "outputs": [],
   "source": []
  },
  {
   "cell_type": "code",
   "execution_count": 63,
   "id": "b7b35f8f",
   "metadata": {},
   "outputs": [
    {
     "data": {
      "text/plain": [
       "0.9817518248175182"
      ]
     },
     "execution_count": 63,
     "metadata": {},
     "output_type": "execute_result"
    }
   ],
   "source": [
    "rfc = RandomForestClassifier()\n",
    "rfc.fit(x_train, y_train)\n",
    "rfc_pred = rfc.predict(x_test)\n",
    "\n",
    "metrics.accuracy_score(y_test, rfc_pred)"
   ]
  },
  {
   "cell_type": "code",
   "execution_count": 105,
   "id": "eaeb120b",
   "metadata": {},
   "outputs": [],
   "source": [
    "# import pickle"
   ]
  },
  {
   "cell_type": "code",
   "execution_count": 106,
   "id": "0e194c0c",
   "metadata": {},
   "outputs": [
    {
     "data": {
      "text/html": [
       "<style>#sk-container-id-4 {color: black;background-color: white;}#sk-container-id-4 pre{padding: 0;}#sk-container-id-4 div.sk-toggleable {background-color: white;}#sk-container-id-4 label.sk-toggleable__label {cursor: pointer;display: block;width: 100%;margin-bottom: 0;padding: 0.3em;box-sizing: border-box;text-align: center;}#sk-container-id-4 label.sk-toggleable__label-arrow:before {content: \"▸\";float: left;margin-right: 0.25em;color: #696969;}#sk-container-id-4 label.sk-toggleable__label-arrow:hover:before {color: black;}#sk-container-id-4 div.sk-estimator:hover label.sk-toggleable__label-arrow:before {color: black;}#sk-container-id-4 div.sk-toggleable__content {max-height: 0;max-width: 0;overflow: hidden;text-align: left;background-color: #f0f8ff;}#sk-container-id-4 div.sk-toggleable__content pre {margin: 0.2em;color: black;border-radius: 0.25em;background-color: #f0f8ff;}#sk-container-id-4 input.sk-toggleable__control:checked~div.sk-toggleable__content {max-height: 200px;max-width: 100%;overflow: auto;}#sk-container-id-4 input.sk-toggleable__control:checked~label.sk-toggleable__label-arrow:before {content: \"▾\";}#sk-container-id-4 div.sk-estimator input.sk-toggleable__control:checked~label.sk-toggleable__label {background-color: #d4ebff;}#sk-container-id-4 div.sk-label input.sk-toggleable__control:checked~label.sk-toggleable__label {background-color: #d4ebff;}#sk-container-id-4 input.sk-hidden--visually {border: 0;clip: rect(1px 1px 1px 1px);clip: rect(1px, 1px, 1px, 1px);height: 1px;margin: -1px;overflow: hidden;padding: 0;position: absolute;width: 1px;}#sk-container-id-4 div.sk-estimator {font-family: monospace;background-color: #f0f8ff;border: 1px dotted black;border-radius: 0.25em;box-sizing: border-box;margin-bottom: 0.5em;}#sk-container-id-4 div.sk-estimator:hover {background-color: #d4ebff;}#sk-container-id-4 div.sk-parallel-item::after {content: \"\";width: 100%;border-bottom: 1px solid gray;flex-grow: 1;}#sk-container-id-4 div.sk-label:hover label.sk-toggleable__label {background-color: #d4ebff;}#sk-container-id-4 div.sk-serial::before {content: \"\";position: absolute;border-left: 1px solid gray;box-sizing: border-box;top: 0;bottom: 0;left: 50%;z-index: 0;}#sk-container-id-4 div.sk-serial {display: flex;flex-direction: column;align-items: center;background-color: white;padding-right: 0.2em;padding-left: 0.2em;position: relative;}#sk-container-id-4 div.sk-item {position: relative;z-index: 1;}#sk-container-id-4 div.sk-parallel {display: flex;align-items: stretch;justify-content: center;background-color: white;position: relative;}#sk-container-id-4 div.sk-item::before, #sk-container-id-4 div.sk-parallel-item::before {content: \"\";position: absolute;border-left: 1px solid gray;box-sizing: border-box;top: 0;bottom: 0;left: 50%;z-index: -1;}#sk-container-id-4 div.sk-parallel-item {display: flex;flex-direction: column;z-index: 1;position: relative;background-color: white;}#sk-container-id-4 div.sk-parallel-item:first-child::after {align-self: flex-end;width: 50%;}#sk-container-id-4 div.sk-parallel-item:last-child::after {align-self: flex-start;width: 50%;}#sk-container-id-4 div.sk-parallel-item:only-child::after {width: 0;}#sk-container-id-4 div.sk-dashed-wrapped {border: 1px dashed gray;margin: 0 0.4em 0.5em 0.4em;box-sizing: border-box;padding-bottom: 0.4em;background-color: white;}#sk-container-id-4 div.sk-label label {font-family: monospace;font-weight: bold;display: inline-block;line-height: 1.2em;}#sk-container-id-4 div.sk-label-container {text-align: center;}#sk-container-id-4 div.sk-container {/* jupyter's `normalize.less` sets `[hidden] { display: none; }` but bootstrap.min.css set `[hidden] { display: none !important; }` so we also need the `!important` here to be able to override the default hidden behavior on the sphinx rendered scikit-learn.org. See: https://github.com/scikit-learn/scikit-learn/issues/21755 */display: inline-block !important;position: relative;}#sk-container-id-4 div.sk-text-repr-fallback {display: none;}</style><div id=\"sk-container-id-4\" class=\"sk-top-container\"><div class=\"sk-text-repr-fallback\"><pre>RandomForestClassifier()</pre><b>In a Jupyter environment, please rerun this cell to show the HTML representation or trust the notebook. <br />On GitHub, the HTML representation is unable to render, please try loading this page with nbviewer.org.</b></div><div class=\"sk-container\" hidden><div class=\"sk-item\"><div class=\"sk-estimator sk-toggleable\"><input class=\"sk-toggleable__control sk-hidden--visually\" id=\"sk-estimator-id-4\" type=\"checkbox\" checked><label for=\"sk-estimator-id-4\" class=\"sk-toggleable__label sk-toggleable__label-arrow\">RandomForestClassifier</label><div class=\"sk-toggleable__content\"><pre>RandomForestClassifier()</pre></div></div></div></div></div>"
      ],
      "text/plain": [
       "RandomForestClassifier()"
      ]
     },
     "execution_count": 106,
     "metadata": {},
     "output_type": "execute_result"
    }
   ],
   "source": [
    "# rfc = RandomForestClassifier()\n",
    "# rfc.fit(x_train, y_train)"
   ]
  },
  {
   "cell_type": "code",
   "execution_count": 108,
   "id": "300333f1",
   "metadata": {},
   "outputs": [],
   "source": [
    "# pickle.dump(rfc, open('randomforest_cuisine.pkl','wb'))"
   ]
  },
  {
   "cell_type": "code",
   "execution_count": 109,
   "id": "025ff90f",
   "metadata": {},
   "outputs": [
    {
     "data": {
      "text/html": [
       "<style>#sk-container-id-5 {color: black;background-color: white;}#sk-container-id-5 pre{padding: 0;}#sk-container-id-5 div.sk-toggleable {background-color: white;}#sk-container-id-5 label.sk-toggleable__label {cursor: pointer;display: block;width: 100%;margin-bottom: 0;padding: 0.3em;box-sizing: border-box;text-align: center;}#sk-container-id-5 label.sk-toggleable__label-arrow:before {content: \"▸\";float: left;margin-right: 0.25em;color: #696969;}#sk-container-id-5 label.sk-toggleable__label-arrow:hover:before {color: black;}#sk-container-id-5 div.sk-estimator:hover label.sk-toggleable__label-arrow:before {color: black;}#sk-container-id-5 div.sk-toggleable__content {max-height: 0;max-width: 0;overflow: hidden;text-align: left;background-color: #f0f8ff;}#sk-container-id-5 div.sk-toggleable__content pre {margin: 0.2em;color: black;border-radius: 0.25em;background-color: #f0f8ff;}#sk-container-id-5 input.sk-toggleable__control:checked~div.sk-toggleable__content {max-height: 200px;max-width: 100%;overflow: auto;}#sk-container-id-5 input.sk-toggleable__control:checked~label.sk-toggleable__label-arrow:before {content: \"▾\";}#sk-container-id-5 div.sk-estimator input.sk-toggleable__control:checked~label.sk-toggleable__label {background-color: #d4ebff;}#sk-container-id-5 div.sk-label input.sk-toggleable__control:checked~label.sk-toggleable__label {background-color: #d4ebff;}#sk-container-id-5 input.sk-hidden--visually {border: 0;clip: rect(1px 1px 1px 1px);clip: rect(1px, 1px, 1px, 1px);height: 1px;margin: -1px;overflow: hidden;padding: 0;position: absolute;width: 1px;}#sk-container-id-5 div.sk-estimator {font-family: monospace;background-color: #f0f8ff;border: 1px dotted black;border-radius: 0.25em;box-sizing: border-box;margin-bottom: 0.5em;}#sk-container-id-5 div.sk-estimator:hover {background-color: #d4ebff;}#sk-container-id-5 div.sk-parallel-item::after {content: \"\";width: 100%;border-bottom: 1px solid gray;flex-grow: 1;}#sk-container-id-5 div.sk-label:hover label.sk-toggleable__label {background-color: #d4ebff;}#sk-container-id-5 div.sk-serial::before {content: \"\";position: absolute;border-left: 1px solid gray;box-sizing: border-box;top: 0;bottom: 0;left: 50%;z-index: 0;}#sk-container-id-5 div.sk-serial {display: flex;flex-direction: column;align-items: center;background-color: white;padding-right: 0.2em;padding-left: 0.2em;position: relative;}#sk-container-id-5 div.sk-item {position: relative;z-index: 1;}#sk-container-id-5 div.sk-parallel {display: flex;align-items: stretch;justify-content: center;background-color: white;position: relative;}#sk-container-id-5 div.sk-item::before, #sk-container-id-5 div.sk-parallel-item::before {content: \"\";position: absolute;border-left: 1px solid gray;box-sizing: border-box;top: 0;bottom: 0;left: 50%;z-index: -1;}#sk-container-id-5 div.sk-parallel-item {display: flex;flex-direction: column;z-index: 1;position: relative;background-color: white;}#sk-container-id-5 div.sk-parallel-item:first-child::after {align-self: flex-end;width: 50%;}#sk-container-id-5 div.sk-parallel-item:last-child::after {align-self: flex-start;width: 50%;}#sk-container-id-5 div.sk-parallel-item:only-child::after {width: 0;}#sk-container-id-5 div.sk-dashed-wrapped {border: 1px dashed gray;margin: 0 0.4em 0.5em 0.4em;box-sizing: border-box;padding-bottom: 0.4em;background-color: white;}#sk-container-id-5 div.sk-label label {font-family: monospace;font-weight: bold;display: inline-block;line-height: 1.2em;}#sk-container-id-5 div.sk-label-container {text-align: center;}#sk-container-id-5 div.sk-container {/* jupyter's `normalize.less` sets `[hidden] { display: none; }` but bootstrap.min.css set `[hidden] { display: none !important; }` so we also need the `!important` here to be able to override the default hidden behavior on the sphinx rendered scikit-learn.org. See: https://github.com/scikit-learn/scikit-learn/issues/21755 */display: inline-block !important;position: relative;}#sk-container-id-5 div.sk-text-repr-fallback {display: none;}</style><div id=\"sk-container-id-5\" class=\"sk-top-container\"><div class=\"sk-text-repr-fallback\"><pre>RandomForestClassifier()</pre><b>In a Jupyter environment, please rerun this cell to show the HTML representation or trust the notebook. <br />On GitHub, the HTML representation is unable to render, please try loading this page with nbviewer.org.</b></div><div class=\"sk-container\" hidden><div class=\"sk-item\"><div class=\"sk-estimator sk-toggleable\"><input class=\"sk-toggleable__control sk-hidden--visually\" id=\"sk-estimator-id-5\" type=\"checkbox\" checked><label for=\"sk-estimator-id-5\" class=\"sk-toggleable__label sk-toggleable__label-arrow\">RandomForestClassifier</label><div class=\"sk-toggleable__content\"><pre>RandomForestClassifier()</pre></div></div></div></div></div>"
      ],
      "text/plain": [
       "RandomForestClassifier()"
      ]
     },
     "execution_count": 109,
     "metadata": {},
     "output_type": "execute_result"
    }
   ],
   "source": [
    "# model1 = pickle.load(open('randomforest_cuisine.pkl','rb'))\n",
    "# model1"
   ]
  },
  {
   "cell_type": "code",
   "execution_count": null,
   "id": "0e26064c",
   "metadata": {},
   "outputs": [],
   "source": []
  }
 ],
 "metadata": {
  "kernelspec": {
   "display_name": "Python 3 (ipykernel)",
   "language": "python",
   "name": "python3"
  },
  "language_info": {
   "codemirror_mode": {
    "name": "ipython",
    "version": 3
   },
   "file_extension": ".py",
   "mimetype": "text/x-python",
   "name": "python",
   "nbconvert_exporter": "python",
   "pygments_lexer": "ipython3",
   "version": "3.9.13"
  }
 },
 "nbformat": 4,
 "nbformat_minor": 5
}
